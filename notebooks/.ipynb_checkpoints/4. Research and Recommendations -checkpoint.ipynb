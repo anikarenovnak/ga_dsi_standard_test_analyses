{
 "cells": [
  {
   "cell_type": "markdown",
   "metadata": {},
   "source": [
    "# 1. Research"
   ]
  },
  {
   "cell_type": "markdown",
   "metadata": {},
   "source": [
    "Recall that in notebook 2 **Exploratory Data Analyses** we identified **Oregon** as the state which needs the immediate support of College Board. In notebok 3, **Visualization and Inference**, we had used seaborn to create a bar chart depicting the national average total participation rate vs Oregon total participation rate where total is the sum of ACT and SAT participation rates. Below is a nicer looking representation of this bar chart created in excel using the same data.<br/>\n",
    "\n",
    "**Note:** Total participation rate double counts the students who take both the ACT and the SAT. In other words, total is the set union of ACT participation rate and SAT participation rate, including students that participate in either SAT, ACT **or both**. "
   ]
  },
  {
   "cell_type": "markdown",
   "metadata": {},
   "source": [
    "![myImage1](../Images/oregon_vs_national_ave_participation_rates.png)"
   ]
  },
  {
   "cell_type": "markdown",
   "metadata": {},
   "source": [
    "Oregon was below the national acerage on its total participation rate by 22% in 2017, and by 19% in 2018.<br/>\n",
    "<br/>\n",
    "The bar chart above also shows that 17% of graduates in 2017 did not take a college prep standardized test and 10% of graduates did not take a college prep standardized test in 2018. <br/>\n",
    "<br/>\n",
    "To understand why these students are falling behind, we need to into Oregon specifically. "
   ]
  },
  {
   "cell_type": "markdown",
   "metadata": {},
   "source": [
    "## 1.1. Facts About Oregon \n",
    "<br/>\n",
    "<br/>\n",
    "In notebok 3, Visualization and Inference, we had used seaborn to create a bar chart depicting the average SAT, ACT and total participation rates rate grouped by state requirement category and cost to students. The purpose of this chart is to illustrate the relationship between SAT and ACT participation rates and their dependency on state requirements and costs. Below is a nicer looking representation of this bar chart created in excel using the same data.\n",
    "<br/>\n",
    "<br/>"
   ]
  },
  {
   "cell_type": "markdown",
   "metadata": {},
   "source": [
    "![myImage2](../Images/average_test_participation_grouped_by_test_requirement_and_cost_to_students.png)\n",
    "<br/>\n",
    "<br/>"
   ]
  },
  {
   "cell_type": "markdown",
   "metadata": {},
   "source": [
    "### Fact 1 - SAT/ACT Are Not Mandatory\n",
    "\n",
    "<br/> In the chart above, it is apparent that participation in ACT/SAT is close to 100% for state in which ACT/SAT is mandatory and free. \n",
    "<br/> \n",
    "<br/>Oregon does not require students to take either one of this tests. The fact that the ACT is not required either means that there is, as of yet, no fixed obstacle in a proposition to mandate the SAT in Oregon. \n",
    "<br/>\n",
    "<br/>\n",
    "<br/>"
   ]
  },
  {
   "cell_type": "markdown",
   "metadata": {},
   "source": [
    "### Fact 2 - SAT/ACT Are Not Funded \n",
    "\n",
    "<br/> In the chart above, it is also apparent that even if no standardized test is mandatory in a state, the students participation is still very high at least one of them (in this case the ACT), above 100% total participation in states were the tests are optional but free of cost to students. **Note:** *****The fact that total participation is above  100% simply means that all graduates are participating in at least one standardized test, but some take both. Students who take both tests are what causes the total participation to exceed 100%*****\n",
    "<br/> \n",
    "<br/> Oregon does not fund the SAT or the ACT and falls in the category of states where participation for both is lowest (the rightmost group on the chart)\n",
    "<br/> \n",
    "<br/> [Hanover Research](https://www.hanoverresearch.com/media/Best-Practices-to-Increase-SAT-Participation-1.pdf) reported that according to College Board, in 2013 ~23% of SAT’s were school funded. This 23% represents students who may have not been able to take the SAT's had the test not been free for them. \n",
    "<br/> \n",
    "<br/> \n",
    "<br/> "
   ]
  },
  {
   "cell_type": "markdown",
   "metadata": {},
   "source": [
    "### Fact 3 - Graduation Requrement: Smarter Balance Exams\n",
    "\n",
    "\n",
    "<br/> Many states such as Connecticut and Delaware made SAT or ACT mandatory as a high school graduation requirement.\n",
    "<br/> \n",
    "<br/> According to [Education Week](https://www.edweek.org/ew/section/multimedia/states-require-students-take-sat-or-act.html) Oregon's choice of required standardized tests for graduation is the Smarter Balance Exams.<br/> \n",
    "\n",
    "<br/> As [OPB News](https://www.opb.org/news/article/oregon-standardized-test-scores-racial-gaps-2017/)  participation rates even in the Smarter Balance exam have been dropping due to the students and teachers disliking the structure of the tests and their difficulty level.\n",
    "<br/>\n",
    "<br/> The [Oregonian](https://www.oregonlive.com/education/2019/03/majority-of-those-arrested-at-portland-high-schools-last-year-were-black-new-report-shows.html) reported cases with more than 10% of juniors and 80% seniors ina few major high schools skipping the tests.\n",
    "\n",
    "Not only Oregon is lagging behind on college prep standardized testing, it's also falling behind on basic high school graduation standardized testing. \n",
    "\n",
    "### Now is a critical time and the declining popularity of the Smarter Balance Exams in Oregon can turn into a promising opportunity to tap into and to establish a contract between Oregon public schools and College Board. This potential is especially magnified by the fact that the SAT has recently changed its structure which should be used as marketing strategy. \n",
    "\n",
    "\n",
    "The proposal is to make the SAT mandatory Oregon and to help the students get back on track with standardized testing both as college and career initiatives but also as a high school graduation requriement. \n",
    "<br/>\n",
    "<br/>\n",
    "<br/>"
   ]
  },
  {
   "cell_type": "markdown",
   "metadata": {},
   "source": [
    "### Fact 4 - Hispanic/Latino Students are Underrepresented in SAT Participation \n",
    "\n",
    "<br/>[Data on student demographics in Oredon for grades 11,12 in academic year 2016-17](https://www.oregon.gov/tspc/Documents/Educator_Equity_Reports/2017_Oregon_Educator_Equity_Report.PDF)\n",
    "was used to compare with [data on student demographics among those who took the SAT in 2017](https://reports.collegeboard.org/pdf/2017-oregon-sat-suite-assessments-annual-report.pdf) to determine whether the studens who participate in the SAT are representative of the overal student body population. \n",
    "<br/>\n",
    "<br/> The comparisons showed that for 2016-2017, students of latino/hispanic erhnic background made about ~20% of the total student body population in grades 11, 12 in Oregon. However, latino/hispanic students were under-represented among the students who participated in SAT in 2017 by about ~7%. \n",
    "<br/> \n",
    "<br/> In 2014,[Hanover Research](https://www.hanoverresearch.com/media/Best-Practices-to-Increase-SAT-Participation-1.pdf) published a report on best practices to improve SAT participation. The report states that one of the most notable obstacles students face in college preparedness 'Social and language barriers, less access to information and guidance, less exploration because of low expectations, decreased access to the Internet, and\n",
    "underestimation of the amount of financial help available'(pg. 9). Such obstacles often create achievement gaps for students coming from low incomce, immigrant and ethnic minority families. \n",
    "<br/>\n",
    "<br/>Furthermore, the report brings up three historical examples of statewise public school initiatives to increase SAT participation rates which have achieved success with the help for increasing participation in the SAT among students with such achievement gaps. The examples in the report include<br/>\n",
    "<br/>\n",
    "<br/>\n",
    "<br/>o Boston Public Schools, Massachusetts<br/>\n",
    "<br/>o New York City Public Schools, New York<br/>\n",
    "<br/>o District of Columbia Public School, District of Columbia<br/>\n",
    "<br/>o MacArthur Senior High School, Aldine Independent School District, Texas<br/>\n",
    "\n",
    "These examples demonstrate that implementation of best practices suggested by College Board have helped bridge this achievement gap. These implementations include a variety of direct and inderect strategies among which some of the most notable ones are \n",
    "<br/>\n",
    "<br/>\n",
    "<br/>o SAT School Day which offers free SAT administration on school campuses<br/>\n",
    "<br/>o Free SAT prep course and PSAT<br/>\n",
    "<br/>o Campus-cultural and narrative change<br/>\n",
    "<br/>o After school programs and teacher/counselor invovlement with students to raise secondary education awareness<br/>\n",
    "<br/>o Involvement of students' parents in the college preparedness initiatives<br/>\n",
    "<br/>\n",
    "<br/>The most important thing is that **the implementation of these practices has been proven to be most effective for students of low income and ethnic minorities who are most affected by the achievement gap we aim to close.** \n",
    "<br/>\n",
    "<br/>\n",
    "<br/>"
   ]
  },
  {
   "cell_type": "markdown",
   "metadata": {},
   "source": [
    "# 2. Recommendations "
   ]
  },
  {
   "cell_type": "markdown",
   "metadata": {},
   "source": [
    "Based on the facts above and their effect on bring the SAT participation rates down in Oregon, here is a list of recommendations for College Board that may help increase the number of students getting involved in college and career preparedness in this state: \n",
    "\n",
    "\n",
    "**Direct Measures:** \n",
    "<br/>\n",
    "<br/>1. If possible, **make the SAT a mandatory** high school graudation requirement. \n",
    "<br/>\n",
    "<br/>2. Establish a contractual agreement with schools in Oregon to **fund the SATs**. \n",
    "<br/>\n",
    "<br/>3. Expand SAT sites and include an **SAT School Day**. \n",
    "<br/>\n",
    "<br/>4. **Require participation in free PSAT and enrollment in free SAT prep course**. \n",
    "<br/>\n",
    "<br/>5. **Steakholder Outreach** - every students' parent should be notified and informed via brochures or school organized teacher-parent conferences on the importance their children's college preparedness. \n",
    "<br/>\n",
    "<br/>6.**Marketing Strategy** - College Board Representatives and events on campus to increase student awareness in an environemnt where peer pressure is high - students are more likely to sign up if they see their friends signing up in a social setting. \n",
    "<br/>\n",
    "<br/>\n",
    "<br/> **Indirect Measures:**\n",
    "<br/>\n",
    "<br/>1. Capmus-cultural, narrative and expectation changes - hire staff across school campus or retrain existing staff to integrate college preparedness activities into classwork on a regular basis, and reform the school narrative to set college preparedness as an expectation that every student must meet rather than an optional choice easily accessible only to those interested. \n",
    "<br/>\n",
    "<br/>\n",
    "\n",
    "\n"
   ]
  },
  {
   "cell_type": "markdown",
   "metadata": {},
   "source": [
    "# 3. Conclusion \n",
    "\n",
    "One of the recommendations to improve SAT participation rates is campus-cultural, narrative and expectation changes. It is important to note that these are not as much changes, as they are reforms because they will require significant investment in reshaping social structures in place between students, counselors and educators. However, combined with the recommendation to require participation in PSAT and SAT preparation course, this strategy will not only increase participation rates, but will help the participants actually be better prepared to take the SAT and to face college post-graduation. While our immediate goal is to increase participation, it is important to note that as participation incrases, generally the average SAT scores drop. Therefore, while preparation for the SAT's is a secondary goal at the moment, the recomendations proposed here will help College Board ensure that schools are taking the first steps towards not only increased participation, but also better quality of college and career preparedness for their graduates. "
   ]
  }
 ],
 "metadata": {
  "kernelspec": {
   "display_name": "Python 3",
   "language": "python",
   "name": "python3"
  },
  "language_info": {
   "codemirror_mode": {
    "name": "ipython",
    "version": 3
   },
   "file_extension": ".py",
   "mimetype": "text/x-python",
   "name": "python",
   "nbconvert_exporter": "python",
   "pygments_lexer": "ipython3",
   "version": "3.7.1"
  }
 },
 "nbformat": 4,
 "nbformat_minor": 2
}
