{
 "cells": [
  {
   "cell_type": "markdown",
   "metadata": {},
   "source": [
    "# 1. Problem Statement "
   ]
  },
  {
   "cell_type": "markdown",
   "metadata": {},
   "source": [
    "We have the 2017 and 2018 data for SAT and ACT participation rates and scores across all states.<br/>\n",
    "\n",
    "It is College Board's goal to identify a state which is in most need ot support and funding to increase SAT participation rates. <br/>\n",
    "\n",
    "The data: <br/>\n",
    "[SAT 2017](https://git.generalassemb.ly/DSI-US-7/project_1/blob/master/data/sat_2017.csv) <br/>\n",
    "[ACT 2017](https://git.generalassemb.ly/DSI-US-7/project_1/blob/master/data/act_2017.csv) <br/>\n",
    "[SAT and ACT 2018](https://docs.google.com/spreadsheets/d/1rY3I09Mdlng9S9agJYe5yMVjtomYa1pmXcDPsJ__vSA/edit#gid=0) <br/>"
   ]
  },
  {
   "cell_type": "code",
   "execution_count": 1,
   "metadata": {},
   "outputs": [],
   "source": [
    "# load all libraries used in this notebook\n",
    "\n",
    "import pandas as pd\n",
    "import numpy as np\n",
    "import seaborn as sns\n",
    "import matplotlib.pyplot as plt"
   ]
  },
  {
   "cell_type": "markdown",
   "metadata": {},
   "source": [
    "# 2. 2017 Data Import and Cleaning"
   ]
  },
  {
   "cell_type": "code",
   "execution_count": 2,
   "metadata": {},
   "outputs": [
    {
     "name": "stdout",
     "output_type": "stream",
     "text": [
      "(51, 5)\n",
      "(52, 7)\n"
     ]
    }
   ],
   "source": [
    "# import data and check data dimensions \n",
    "sat = pd.read_csv('../data/sat_2017.csv')\n",
    "act = pd.read_csv('../data/act_2017.csv')\n",
    "print(sat.shape)\n",
    "print(act.shape)"
   ]
  },
  {
   "cell_type": "code",
   "execution_count": 3,
   "metadata": {},
   "outputs": [
    {
     "data": {
      "text/html": [
       "<div>\n",
       "<style scoped>\n",
       "    .dataframe tbody tr th:only-of-type {\n",
       "        vertical-align: middle;\n",
       "    }\n",
       "\n",
       "    .dataframe tbody tr th {\n",
       "        vertical-align: top;\n",
       "    }\n",
       "\n",
       "    .dataframe thead th {\n",
       "        text-align: right;\n",
       "    }\n",
       "</style>\n",
       "<table border=\"1\" class=\"dataframe\">\n",
       "  <thead>\n",
       "    <tr style=\"text-align: right;\">\n",
       "      <th></th>\n",
       "      <th>State</th>\n",
       "      <th>Participation</th>\n",
       "      <th>Evidence-Based Reading and Writing</th>\n",
       "      <th>Math</th>\n",
       "      <th>Total</th>\n",
       "    </tr>\n",
       "  </thead>\n",
       "  <tbody>\n",
       "    <tr>\n",
       "      <th>0</th>\n",
       "      <td>Alabama</td>\n",
       "      <td>5%</td>\n",
       "      <td>593</td>\n",
       "      <td>572</td>\n",
       "      <td>1165</td>\n",
       "    </tr>\n",
       "    <tr>\n",
       "      <th>1</th>\n",
       "      <td>Alaska</td>\n",
       "      <td>38%</td>\n",
       "      <td>547</td>\n",
       "      <td>533</td>\n",
       "      <td>1080</td>\n",
       "    </tr>\n",
       "    <tr>\n",
       "      <th>2</th>\n",
       "      <td>Arizona</td>\n",
       "      <td>30%</td>\n",
       "      <td>563</td>\n",
       "      <td>553</td>\n",
       "      <td>1116</td>\n",
       "    </tr>\n",
       "    <tr>\n",
       "      <th>3</th>\n",
       "      <td>Arkansas</td>\n",
       "      <td>3%</td>\n",
       "      <td>614</td>\n",
       "      <td>594</td>\n",
       "      <td>1208</td>\n",
       "    </tr>\n",
       "    <tr>\n",
       "      <th>4</th>\n",
       "      <td>California</td>\n",
       "      <td>53%</td>\n",
       "      <td>531</td>\n",
       "      <td>524</td>\n",
       "      <td>1055</td>\n",
       "    </tr>\n",
       "  </tbody>\n",
       "</table>\n",
       "</div>"
      ],
      "text/plain": [
       "        State Participation  Evidence-Based Reading and Writing  Math  Total\n",
       "0     Alabama            5%                                 593   572   1165\n",
       "1      Alaska           38%                                 547   533   1080\n",
       "2     Arizona           30%                                 563   553   1116\n",
       "3    Arkansas            3%                                 614   594   1208\n",
       "4  California           53%                                 531   524   1055"
      ]
     },
     "execution_count": 3,
     "metadata": {},
     "output_type": "execute_result"
    }
   ],
   "source": [
    "# display the first 5 rows of the sat dataframe \n",
    "sat.head()"
   ]
  },
  {
   "cell_type": "code",
   "execution_count": 4,
   "metadata": {},
   "outputs": [
    {
     "data": {
      "text/html": [
       "<div>\n",
       "<style scoped>\n",
       "    .dataframe tbody tr th:only-of-type {\n",
       "        vertical-align: middle;\n",
       "    }\n",
       "\n",
       "    .dataframe tbody tr th {\n",
       "        vertical-align: top;\n",
       "    }\n",
       "\n",
       "    .dataframe thead th {\n",
       "        text-align: right;\n",
       "    }\n",
       "</style>\n",
       "<table border=\"1\" class=\"dataframe\">\n",
       "  <thead>\n",
       "    <tr style=\"text-align: right;\">\n",
       "      <th></th>\n",
       "      <th>State</th>\n",
       "      <th>Participation</th>\n",
       "      <th>English</th>\n",
       "      <th>Math</th>\n",
       "      <th>Reading</th>\n",
       "      <th>Science</th>\n",
       "      <th>Composite</th>\n",
       "    </tr>\n",
       "  </thead>\n",
       "  <tbody>\n",
       "    <tr>\n",
       "      <th>0</th>\n",
       "      <td>National</td>\n",
       "      <td>60%</td>\n",
       "      <td>20.3</td>\n",
       "      <td>20.7</td>\n",
       "      <td>21.4</td>\n",
       "      <td>21.0</td>\n",
       "      <td>21.0</td>\n",
       "    </tr>\n",
       "    <tr>\n",
       "      <th>1</th>\n",
       "      <td>Alabama</td>\n",
       "      <td>100%</td>\n",
       "      <td>18.9</td>\n",
       "      <td>18.4</td>\n",
       "      <td>19.7</td>\n",
       "      <td>19.4</td>\n",
       "      <td>19.2</td>\n",
       "    </tr>\n",
       "    <tr>\n",
       "      <th>2</th>\n",
       "      <td>Alaska</td>\n",
       "      <td>65%</td>\n",
       "      <td>18.7</td>\n",
       "      <td>19.8</td>\n",
       "      <td>20.4</td>\n",
       "      <td>19.9</td>\n",
       "      <td>19.8</td>\n",
       "    </tr>\n",
       "    <tr>\n",
       "      <th>3</th>\n",
       "      <td>Arizona</td>\n",
       "      <td>62%</td>\n",
       "      <td>18.6</td>\n",
       "      <td>19.8</td>\n",
       "      <td>20.1</td>\n",
       "      <td>19.8</td>\n",
       "      <td>19.7</td>\n",
       "    </tr>\n",
       "    <tr>\n",
       "      <th>4</th>\n",
       "      <td>Arkansas</td>\n",
       "      <td>100%</td>\n",
       "      <td>18.9</td>\n",
       "      <td>19.0</td>\n",
       "      <td>19.7</td>\n",
       "      <td>19.5</td>\n",
       "      <td>19.4</td>\n",
       "    </tr>\n",
       "  </tbody>\n",
       "</table>\n",
       "</div>"
      ],
      "text/plain": [
       "      State Participation  English  Math  Reading  Science Composite\n",
       "0  National           60%     20.3  20.7     21.4     21.0      21.0\n",
       "1   Alabama          100%     18.9  18.4     19.7     19.4      19.2\n",
       "2    Alaska           65%     18.7  19.8     20.4     19.9      19.8\n",
       "3   Arizona           62%     18.6  19.8     20.1     19.8      19.7\n",
       "4  Arkansas          100%     18.9  19.0     19.7     19.5      19.4"
      ]
     },
     "execution_count": 4,
     "metadata": {},
     "output_type": "execute_result"
    }
   ],
   "source": [
    "# display the first 5 rows of the act dataframe \n",
    "act.head()"
   ]
  },
  {
   "cell_type": "markdown",
   "metadata": {},
   "source": [
    "The sat and act dataframes have a column that should be the same for both  - the **state** column. There are 51 states in the US. So assuming the **state** column contains only the states as it should and noting that each state represents an observation in the data and therefore should have its own row in the data frame, both sat and act dataframes should have 51 rows. However, having investigated the dimensions of the two data frames earlier we saw that \n",
    "\n",
    "* sat data has 51 rows \n",
    "* act data has 52 rows \n",
    "\n",
    "So then, act data contains an extra row which looks suspicious and needs further investigation."
   ]
  },
  {
   "cell_type": "code",
   "execution_count": 5,
   "metadata": {},
   "outputs": [
    {
     "data": {
      "text/plain": [
       "['National',\n",
       " 'Alabama',\n",
       " 'Alaska',\n",
       " 'Arizona',\n",
       " 'Arkansas',\n",
       " 'California',\n",
       " 'Colorado',\n",
       " 'Connecticut',\n",
       " 'Delaware',\n",
       " 'District of Columbia',\n",
       " 'Florida',\n",
       " 'Georgia',\n",
       " 'Hawaii',\n",
       " 'Idaho',\n",
       " 'Illinois',\n",
       " 'Indiana',\n",
       " 'Iowa',\n",
       " 'Kansas',\n",
       " 'Kentucky',\n",
       " 'Louisiana',\n",
       " 'Maine',\n",
       " 'Maryland',\n",
       " 'Massachusetts',\n",
       " 'Michigan',\n",
       " 'Minnesota',\n",
       " 'Mississippi',\n",
       " 'Missouri',\n",
       " 'Montana',\n",
       " 'Nebraska',\n",
       " 'Nevada',\n",
       " 'New Hampshire',\n",
       " 'New Jersey',\n",
       " 'New Mexico',\n",
       " 'New York',\n",
       " 'North Carolina',\n",
       " 'North Dakota',\n",
       " 'Ohio',\n",
       " 'Oklahoma',\n",
       " 'Oregon',\n",
       " 'Pennsylvania',\n",
       " 'Rhode Island',\n",
       " 'South Carolina',\n",
       " 'South Dakota',\n",
       " 'Tennessee',\n",
       " 'Texas',\n",
       " 'Utah',\n",
       " 'Vermont',\n",
       " 'Virginia',\n",
       " 'Washington',\n",
       " 'West Virginia',\n",
       " 'Wisconsin',\n",
       " 'Wyoming']"
      ]
     },
     "execution_count": 5,
     "metadata": {},
     "output_type": "execute_result"
    }
   ],
   "source": [
    "# Check the unique values in the 'state' column for act data\n",
    "list(act['State'].unique())"
   ]
  },
  {
   "cell_type": "markdown",
   "metadata": {},
   "source": [
    "Notice that among the states in act data, an additional 'national' value is listed. Let's see what that is?"
   ]
  },
  {
   "cell_type": "code",
   "execution_count": 6,
   "metadata": {},
   "outputs": [
    {
     "data": {
      "text/html": [
       "<div>\n",
       "<style scoped>\n",
       "    .dataframe tbody tr th:only-of-type {\n",
       "        vertical-align: middle;\n",
       "    }\n",
       "\n",
       "    .dataframe tbody tr th {\n",
       "        vertical-align: top;\n",
       "    }\n",
       "\n",
       "    .dataframe thead th {\n",
       "        text-align: right;\n",
       "    }\n",
       "</style>\n",
       "<table border=\"1\" class=\"dataframe\">\n",
       "  <thead>\n",
       "    <tr style=\"text-align: right;\">\n",
       "      <th></th>\n",
       "      <th>State</th>\n",
       "      <th>Participation</th>\n",
       "      <th>English</th>\n",
       "      <th>Math</th>\n",
       "      <th>Reading</th>\n",
       "      <th>Science</th>\n",
       "      <th>Composite</th>\n",
       "    </tr>\n",
       "  </thead>\n",
       "  <tbody>\n",
       "    <tr>\n",
       "      <th>0</th>\n",
       "      <td>National</td>\n",
       "      <td>60%</td>\n",
       "      <td>20.3</td>\n",
       "      <td>20.7</td>\n",
       "      <td>21.4</td>\n",
       "      <td>21.0</td>\n",
       "      <td>21.0</td>\n",
       "    </tr>\n",
       "  </tbody>\n",
       "</table>\n",
       "</div>"
      ],
      "text/plain": [
       "      State Participation  English  Math  Reading  Science Composite\n",
       "0  National           60%     20.3  20.7     21.4     21.0      21.0"
      ]
     },
     "execution_count": 6,
     "metadata": {},
     "output_type": "execute_result"
    }
   ],
   "source": [
    "act[act['State']=='National']"
   ]
  },
  {
   "cell_type": "markdown",
   "metadata": {},
   "source": [
    "Ok, so this observation contains data on a national level for a variety of act related variables. This is additional data that the sat data does not have which is ok. \n",
    "\n",
    "To make things easier, I want to merge the act and sat dataframes into one dataframe so that there is no need to study each separately anymore. Since the **State** variable is present in both dataframes, we can use this as the column to merge our dataframes on. During this merge, the ***National*** observation in act data will be dropped because there is no equivalent value in the sat data's **State** column. This is not a problem because we are only interested in individual state level data. "
   ]
  },
  {
   "cell_type": "code",
   "execution_count": 7,
   "metadata": {
    "scrolled": true
   },
   "outputs": [
    {
     "name": "stdout",
     "output_type": "stream",
     "text": [
      "(51, 11)\n"
     ]
    },
    {
     "data": {
      "text/html": [
       "<div>\n",
       "<style scoped>\n",
       "    .dataframe tbody tr th:only-of-type {\n",
       "        vertical-align: middle;\n",
       "    }\n",
       "\n",
       "    .dataframe tbody tr th {\n",
       "        vertical-align: top;\n",
       "    }\n",
       "\n",
       "    .dataframe thead th {\n",
       "        text-align: right;\n",
       "    }\n",
       "</style>\n",
       "<table border=\"1\" class=\"dataframe\">\n",
       "  <thead>\n",
       "    <tr style=\"text-align: right;\">\n",
       "      <th></th>\n",
       "      <th>State</th>\n",
       "      <th>Participation_x</th>\n",
       "      <th>Evidence-Based Reading and Writing</th>\n",
       "      <th>Math_x</th>\n",
       "      <th>Total</th>\n",
       "      <th>Participation_y</th>\n",
       "      <th>English</th>\n",
       "      <th>Math_y</th>\n",
       "      <th>Reading</th>\n",
       "      <th>Science</th>\n",
       "      <th>Composite</th>\n",
       "    </tr>\n",
       "  </thead>\n",
       "  <tbody>\n",
       "    <tr>\n",
       "      <th>0</th>\n",
       "      <td>Alabama</td>\n",
       "      <td>5%</td>\n",
       "      <td>593</td>\n",
       "      <td>572</td>\n",
       "      <td>1165</td>\n",
       "      <td>100%</td>\n",
       "      <td>18.9</td>\n",
       "      <td>18.4</td>\n",
       "      <td>19.7</td>\n",
       "      <td>19.4</td>\n",
       "      <td>19.2</td>\n",
       "    </tr>\n",
       "    <tr>\n",
       "      <th>1</th>\n",
       "      <td>Alaska</td>\n",
       "      <td>38%</td>\n",
       "      <td>547</td>\n",
       "      <td>533</td>\n",
       "      <td>1080</td>\n",
       "      <td>65%</td>\n",
       "      <td>18.7</td>\n",
       "      <td>19.8</td>\n",
       "      <td>20.4</td>\n",
       "      <td>19.9</td>\n",
       "      <td>19.8</td>\n",
       "    </tr>\n",
       "    <tr>\n",
       "      <th>2</th>\n",
       "      <td>Arizona</td>\n",
       "      <td>30%</td>\n",
       "      <td>563</td>\n",
       "      <td>553</td>\n",
       "      <td>1116</td>\n",
       "      <td>62%</td>\n",
       "      <td>18.6</td>\n",
       "      <td>19.8</td>\n",
       "      <td>20.1</td>\n",
       "      <td>19.8</td>\n",
       "      <td>19.7</td>\n",
       "    </tr>\n",
       "    <tr>\n",
       "      <th>3</th>\n",
       "      <td>Arkansas</td>\n",
       "      <td>3%</td>\n",
       "      <td>614</td>\n",
       "      <td>594</td>\n",
       "      <td>1208</td>\n",
       "      <td>100%</td>\n",
       "      <td>18.9</td>\n",
       "      <td>19.0</td>\n",
       "      <td>19.7</td>\n",
       "      <td>19.5</td>\n",
       "      <td>19.4</td>\n",
       "    </tr>\n",
       "    <tr>\n",
       "      <th>4</th>\n",
       "      <td>California</td>\n",
       "      <td>53%</td>\n",
       "      <td>531</td>\n",
       "      <td>524</td>\n",
       "      <td>1055</td>\n",
       "      <td>31%</td>\n",
       "      <td>22.5</td>\n",
       "      <td>22.7</td>\n",
       "      <td>23.1</td>\n",
       "      <td>22.2</td>\n",
       "      <td>22.8</td>\n",
       "    </tr>\n",
       "  </tbody>\n",
       "</table>\n",
       "</div>"
      ],
      "text/plain": [
       "        State Participation_x  Evidence-Based Reading and Writing  Math_x  \\\n",
       "0     Alabama              5%                                 593     572   \n",
       "1      Alaska             38%                                 547     533   \n",
       "2     Arizona             30%                                 563     553   \n",
       "3    Arkansas              3%                                 614     594   \n",
       "4  California             53%                                 531     524   \n",
       "\n",
       "   Total Participation_y  English  Math_y  Reading  Science Composite  \n",
       "0   1165            100%     18.9    18.4     19.7     19.4      19.2  \n",
       "1   1080             65%     18.7    19.8     20.4     19.9      19.8  \n",
       "2   1116             62%     18.6    19.8     20.1     19.8      19.7  \n",
       "3   1208            100%     18.9    19.0     19.7     19.5      19.4  \n",
       "4   1055             31%     22.5    22.7     23.1     22.2      22.8  "
      ]
     },
     "execution_count": 7,
     "metadata": {},
     "output_type": "execute_result"
    }
   ],
   "source": [
    "# merge act and sat dataframes on 'State' column\n",
    "data = pd.merge(sat, act, on = 'State')\n",
    "print(data.shape)\n",
    "data.head()"
   ]
  },
  {
   "cell_type": "markdown",
   "metadata": {},
   "source": [
    "Let's check to confirm that the ***National*** observation has been dropped from the unique values in the **State** variable for our new **data** which contains both sat and act data."
   ]
  },
  {
   "cell_type": "code",
   "execution_count": 8,
   "metadata": {},
   "outputs": [
    {
     "name": "stdout",
     "output_type": "stream",
     "text": [
      "\"National\" was dropped\n"
     ]
    }
   ],
   "source": [
    "if 'National' not in list(data['State'].unique()):\n",
    "    print('\"National\" was dropped')\n",
    "else: \n",
    "    print('\"National\" is still in data')"
   ]
  },
  {
   "cell_type": "markdown",
   "metadata": {},
   "source": [
    "Now that we have merged sat and act data into one dataframe, columns that had the same headers for sat and act must have acquired a suffix, namely **_x** and **_y** for sat and act respsectively to ensure that each column header is unique. It's best to rename the columns overall so that the column headers are more informative. "
   ]
  },
  {
   "cell_type": "code",
   "execution_count": 9,
   "metadata": {},
   "outputs": [
    {
     "data": {
      "text/plain": [
       "['State',\n",
       " 'Participation_x',\n",
       " 'Evidence-Based Reading and Writing',\n",
       " 'Math_x',\n",
       " 'Total',\n",
       " 'Participation_y',\n",
       " 'English',\n",
       " 'Math_y',\n",
       " 'Reading',\n",
       " 'Science',\n",
       " 'Composite']"
      ]
     },
     "execution_count": 9,
     "metadata": {},
     "output_type": "execute_result"
    }
   ],
   "source": [
    "# print current column names\n",
    "list(data.columns)"
   ]
  },
  {
   "cell_type": "code",
   "execution_count": 10,
   "metadata": {},
   "outputs": [
    {
     "data": {
      "text/plain": [
       "['state',\n",
       " 'sat_participation',\n",
       " 'sat_read_write',\n",
       " 'sat_math',\n",
       " 'sat_total',\n",
       " 'act_participation',\n",
       " 'act_english',\n",
       " 'act_math',\n",
       " 'act_reading',\n",
       " 'act_science',\n",
       " 'act_composite']"
      ]
     },
     "execution_count": 10,
     "metadata": {},
     "output_type": "execute_result"
    }
   ],
   "source": [
    "# rename columns \n",
    "data.rename(columns={'State':'state',\n",
    "                     'Participation_x':'sat_participation', \n",
    "                     'Math_x':'sat_math',\n",
    "                     'Total':'sat_total',\n",
    "                     'Evidence-Based Reading and Writing':'sat_read_write',\n",
    "                     'Participation_y':'act_participation',\n",
    "                     'Math_y':'act_math',\n",
    "                     'English':'act_english',\n",
    "                     'Reading':'act_reading',\n",
    "                     'Science':'act_science',\n",
    "                     'Composite':'act_composite'\n",
    "                    }, inplace=True)\n",
    "list(data.columns)"
   ]
  },
  {
   "cell_type": "markdown",
   "metadata": {},
   "source": [
    "Seems like we're in good shape to familiarize ourselves with the data more closely. Let's run some commands to dlearn more about the data."
   ]
  },
  {
   "cell_type": "code",
   "execution_count": 11,
   "metadata": {},
   "outputs": [
    {
     "data": {
      "text/plain": [
       "state                 object\n",
       "sat_participation     object\n",
       "sat_read_write         int64\n",
       "sat_math               int64\n",
       "sat_total              int64\n",
       "act_participation     object\n",
       "act_english          float64\n",
       "act_math             float64\n",
       "act_reading          float64\n",
       "act_science          float64\n",
       "act_composite         object\n",
       "dtype: object"
      ]
     },
     "execution_count": 11,
     "metadata": {},
     "output_type": "execute_result"
    }
   ],
   "source": [
    "# check the data types of each column \n",
    "data.dtypes"
   ]
  },
  {
   "cell_type": "code",
   "execution_count": 12,
   "metadata": {},
   "outputs": [
    {
     "data": {
      "text/plain": [
       "0"
      ]
     },
     "execution_count": 12,
     "metadata": {},
     "output_type": "execute_result"
    }
   ],
   "source": [
    "# check the number of diplicate rows (if any)\n",
    "data.duplicated().sum()"
   ]
  },
  {
   "cell_type": "code",
   "execution_count": 13,
   "metadata": {},
   "outputs": [
    {
     "data": {
      "text/plain": [
       "state                0\n",
       "sat_participation    0\n",
       "sat_read_write       0\n",
       "sat_math             0\n",
       "sat_total            0\n",
       "act_participation    0\n",
       "act_english          0\n",
       "act_math             0\n",
       "act_reading          0\n",
       "act_science          0\n",
       "act_composite        0\n",
       "dtype: int64"
      ]
     },
     "execution_count": 13,
     "metadata": {},
     "output_type": "execute_result"
    }
   ],
   "source": [
    "# check the number of missing values for each column \n",
    "data.isnull().sum() "
   ]
  },
  {
   "cell_type": "markdown",
   "metadata": {},
   "source": [
    "Here is what the data looks like at first glance:\n",
    "\n",
    "* the data looks complete given that there are no missing values\n",
    "* there are no duplicate rows\n",
    "* the data inside most columns is numberic (integer/float) except for:\n",
    "    **state**, **sat_participation**, **act_participation** and **act_composite** have string datatypes.   \n",
    "\n",
    "The **state** is expected to be typed as string variable. However, in order to conduct numerical analyses and computations on **sat_participation**, **act_participation** and **act_composite** variables we need to convert their datatpes to numeric. But we will come back to this later. For now let's get some basic descriptive statistics on the data.\n"
   ]
  },
  {
   "cell_type": "code",
   "execution_count": 14,
   "metadata": {},
   "outputs": [
    {
     "data": {
      "text/html": [
       "<style  type=\"text/css\" >\n",
       "</style><table id=\"T_cd0cef3e_43d8_11e9_a7f0_6a00038c4c30\" ><thead>    <tr>        <th class=\"blank level0\" ></th>        <th class=\"col_heading level0 col0\" >count</th>        <th class=\"col_heading level0 col1\" >unique</th>        <th class=\"col_heading level0 col2\" >top</th>        <th class=\"col_heading level0 col3\" >freq</th>        <th class=\"col_heading level0 col4\" >mean</th>        <th class=\"col_heading level0 col5\" >std</th>        <th class=\"col_heading level0 col6\" >min</th>        <th class=\"col_heading level0 col7\" >25%</th>        <th class=\"col_heading level0 col8\" >50%</th>        <th class=\"col_heading level0 col9\" >75%</th>        <th class=\"col_heading level0 col10\" >max</th>    </tr></thead><tbody>\n",
       "                <tr>\n",
       "                        <th id=\"T_cd0cef3e_43d8_11e9_a7f0_6a00038c4c30level0_row0\" class=\"row_heading level0 row0\" >state</th>\n",
       "                        <td id=\"T_cd0cef3e_43d8_11e9_a7f0_6a00038c4c30row0_col0\" class=\"data row0 col0\" >51</td>\n",
       "                        <td id=\"T_cd0cef3e_43d8_11e9_a7f0_6a00038c4c30row0_col1\" class=\"data row0 col1\" >51</td>\n",
       "                        <td id=\"T_cd0cef3e_43d8_11e9_a7f0_6a00038c4c30row0_col2\" class=\"data row0 col2\" >Wyoming</td>\n",
       "                        <td id=\"T_cd0cef3e_43d8_11e9_a7f0_6a00038c4c30row0_col3\" class=\"data row0 col3\" >1</td>\n",
       "                        <td id=\"T_cd0cef3e_43d8_11e9_a7f0_6a00038c4c30row0_col4\" class=\"data row0 col4\" >nan</td>\n",
       "                        <td id=\"T_cd0cef3e_43d8_11e9_a7f0_6a00038c4c30row0_col5\" class=\"data row0 col5\" >nan</td>\n",
       "                        <td id=\"T_cd0cef3e_43d8_11e9_a7f0_6a00038c4c30row0_col6\" class=\"data row0 col6\" >nan</td>\n",
       "                        <td id=\"T_cd0cef3e_43d8_11e9_a7f0_6a00038c4c30row0_col7\" class=\"data row0 col7\" >nan</td>\n",
       "                        <td id=\"T_cd0cef3e_43d8_11e9_a7f0_6a00038c4c30row0_col8\" class=\"data row0 col8\" >nan</td>\n",
       "                        <td id=\"T_cd0cef3e_43d8_11e9_a7f0_6a00038c4c30row0_col9\" class=\"data row0 col9\" >nan</td>\n",
       "                        <td id=\"T_cd0cef3e_43d8_11e9_a7f0_6a00038c4c30row0_col10\" class=\"data row0 col10\" >nan</td>\n",
       "            </tr>\n",
       "            <tr>\n",
       "                        <th id=\"T_cd0cef3e_43d8_11e9_a7f0_6a00038c4c30level0_row1\" class=\"row_heading level0 row1\" >sat_participation</th>\n",
       "                        <td id=\"T_cd0cef3e_43d8_11e9_a7f0_6a00038c4c30row1_col0\" class=\"data row1 col0\" >51</td>\n",
       "                        <td id=\"T_cd0cef3e_43d8_11e9_a7f0_6a00038c4c30row1_col1\" class=\"data row1 col1\" >34</td>\n",
       "                        <td id=\"T_cd0cef3e_43d8_11e9_a7f0_6a00038c4c30row1_col2\" class=\"data row1 col2\" >3%</td>\n",
       "                        <td id=\"T_cd0cef3e_43d8_11e9_a7f0_6a00038c4c30row1_col3\" class=\"data row1 col3\" >8</td>\n",
       "                        <td id=\"T_cd0cef3e_43d8_11e9_a7f0_6a00038c4c30row1_col4\" class=\"data row1 col4\" >nan</td>\n",
       "                        <td id=\"T_cd0cef3e_43d8_11e9_a7f0_6a00038c4c30row1_col5\" class=\"data row1 col5\" >nan</td>\n",
       "                        <td id=\"T_cd0cef3e_43d8_11e9_a7f0_6a00038c4c30row1_col6\" class=\"data row1 col6\" >nan</td>\n",
       "                        <td id=\"T_cd0cef3e_43d8_11e9_a7f0_6a00038c4c30row1_col7\" class=\"data row1 col7\" >nan</td>\n",
       "                        <td id=\"T_cd0cef3e_43d8_11e9_a7f0_6a00038c4c30row1_col8\" class=\"data row1 col8\" >nan</td>\n",
       "                        <td id=\"T_cd0cef3e_43d8_11e9_a7f0_6a00038c4c30row1_col9\" class=\"data row1 col9\" >nan</td>\n",
       "                        <td id=\"T_cd0cef3e_43d8_11e9_a7f0_6a00038c4c30row1_col10\" class=\"data row1 col10\" >nan</td>\n",
       "            </tr>\n",
       "            <tr>\n",
       "                        <th id=\"T_cd0cef3e_43d8_11e9_a7f0_6a00038c4c30level0_row2\" class=\"row_heading level0 row2\" >sat_read_write</th>\n",
       "                        <td id=\"T_cd0cef3e_43d8_11e9_a7f0_6a00038c4c30row2_col0\" class=\"data row2 col0\" >51</td>\n",
       "                        <td id=\"T_cd0cef3e_43d8_11e9_a7f0_6a00038c4c30row2_col1\" class=\"data row2 col1\" >nan</td>\n",
       "                        <td id=\"T_cd0cef3e_43d8_11e9_a7f0_6a00038c4c30row2_col2\" class=\"data row2 col2\" >nan</td>\n",
       "                        <td id=\"T_cd0cef3e_43d8_11e9_a7f0_6a00038c4c30row2_col3\" class=\"data row2 col3\" >nan</td>\n",
       "                        <td id=\"T_cd0cef3e_43d8_11e9_a7f0_6a00038c4c30row2_col4\" class=\"data row2 col4\" >569.118</td>\n",
       "                        <td id=\"T_cd0cef3e_43d8_11e9_a7f0_6a00038c4c30row2_col5\" class=\"data row2 col5\" >45.6669</td>\n",
       "                        <td id=\"T_cd0cef3e_43d8_11e9_a7f0_6a00038c4c30row2_col6\" class=\"data row2 col6\" >482</td>\n",
       "                        <td id=\"T_cd0cef3e_43d8_11e9_a7f0_6a00038c4c30row2_col7\" class=\"data row2 col7\" >533.5</td>\n",
       "                        <td id=\"T_cd0cef3e_43d8_11e9_a7f0_6a00038c4c30row2_col8\" class=\"data row2 col8\" >559</td>\n",
       "                        <td id=\"T_cd0cef3e_43d8_11e9_a7f0_6a00038c4c30row2_col9\" class=\"data row2 col9\" >613</td>\n",
       "                        <td id=\"T_cd0cef3e_43d8_11e9_a7f0_6a00038c4c30row2_col10\" class=\"data row2 col10\" >644</td>\n",
       "            </tr>\n",
       "            <tr>\n",
       "                        <th id=\"T_cd0cef3e_43d8_11e9_a7f0_6a00038c4c30level0_row3\" class=\"row_heading level0 row3\" >sat_math</th>\n",
       "                        <td id=\"T_cd0cef3e_43d8_11e9_a7f0_6a00038c4c30row3_col0\" class=\"data row3 col0\" >51</td>\n",
       "                        <td id=\"T_cd0cef3e_43d8_11e9_a7f0_6a00038c4c30row3_col1\" class=\"data row3 col1\" >nan</td>\n",
       "                        <td id=\"T_cd0cef3e_43d8_11e9_a7f0_6a00038c4c30row3_col2\" class=\"data row3 col2\" >nan</td>\n",
       "                        <td id=\"T_cd0cef3e_43d8_11e9_a7f0_6a00038c4c30row3_col3\" class=\"data row3 col3\" >nan</td>\n",
       "                        <td id=\"T_cd0cef3e_43d8_11e9_a7f0_6a00038c4c30row3_col4\" class=\"data row3 col4\" >547.627</td>\n",
       "                        <td id=\"T_cd0cef3e_43d8_11e9_a7f0_6a00038c4c30row3_col5\" class=\"data row3 col5\" >84.9091</td>\n",
       "                        <td id=\"T_cd0cef3e_43d8_11e9_a7f0_6a00038c4c30row3_col6\" class=\"data row3 col6\" >52</td>\n",
       "                        <td id=\"T_cd0cef3e_43d8_11e9_a7f0_6a00038c4c30row3_col7\" class=\"data row3 col7\" >522</td>\n",
       "                        <td id=\"T_cd0cef3e_43d8_11e9_a7f0_6a00038c4c30row3_col8\" class=\"data row3 col8\" >548</td>\n",
       "                        <td id=\"T_cd0cef3e_43d8_11e9_a7f0_6a00038c4c30row3_col9\" class=\"data row3 col9\" >599</td>\n",
       "                        <td id=\"T_cd0cef3e_43d8_11e9_a7f0_6a00038c4c30row3_col10\" class=\"data row3 col10\" >651</td>\n",
       "            </tr>\n",
       "            <tr>\n",
       "                        <th id=\"T_cd0cef3e_43d8_11e9_a7f0_6a00038c4c30level0_row4\" class=\"row_heading level0 row4\" >sat_total</th>\n",
       "                        <td id=\"T_cd0cef3e_43d8_11e9_a7f0_6a00038c4c30row4_col0\" class=\"data row4 col0\" >51</td>\n",
       "                        <td id=\"T_cd0cef3e_43d8_11e9_a7f0_6a00038c4c30row4_col1\" class=\"data row4 col1\" >nan</td>\n",
       "                        <td id=\"T_cd0cef3e_43d8_11e9_a7f0_6a00038c4c30row4_col2\" class=\"data row4 col2\" >nan</td>\n",
       "                        <td id=\"T_cd0cef3e_43d8_11e9_a7f0_6a00038c4c30row4_col3\" class=\"data row4 col3\" >nan</td>\n",
       "                        <td id=\"T_cd0cef3e_43d8_11e9_a7f0_6a00038c4c30row4_col4\" class=\"data row4 col4\" >1126.1</td>\n",
       "                        <td id=\"T_cd0cef3e_43d8_11e9_a7f0_6a00038c4c30row4_col5\" class=\"data row4 col5\" >92.4948</td>\n",
       "                        <td id=\"T_cd0cef3e_43d8_11e9_a7f0_6a00038c4c30row4_col6\" class=\"data row4 col6\" >950</td>\n",
       "                        <td id=\"T_cd0cef3e_43d8_11e9_a7f0_6a00038c4c30row4_col7\" class=\"data row4 col7\" >1055.5</td>\n",
       "                        <td id=\"T_cd0cef3e_43d8_11e9_a7f0_6a00038c4c30row4_col8\" class=\"data row4 col8\" >1107</td>\n",
       "                        <td id=\"T_cd0cef3e_43d8_11e9_a7f0_6a00038c4c30row4_col9\" class=\"data row4 col9\" >1212</td>\n",
       "                        <td id=\"T_cd0cef3e_43d8_11e9_a7f0_6a00038c4c30row4_col10\" class=\"data row4 col10\" >1295</td>\n",
       "            </tr>\n",
       "            <tr>\n",
       "                        <th id=\"T_cd0cef3e_43d8_11e9_a7f0_6a00038c4c30level0_row5\" class=\"row_heading level0 row5\" >act_participation</th>\n",
       "                        <td id=\"T_cd0cef3e_43d8_11e9_a7f0_6a00038c4c30row5_col0\" class=\"data row5 col0\" >51</td>\n",
       "                        <td id=\"T_cd0cef3e_43d8_11e9_a7f0_6a00038c4c30row5_col1\" class=\"data row5 col1\" >27</td>\n",
       "                        <td id=\"T_cd0cef3e_43d8_11e9_a7f0_6a00038c4c30row5_col2\" class=\"data row5 col2\" >100%</td>\n",
       "                        <td id=\"T_cd0cef3e_43d8_11e9_a7f0_6a00038c4c30row5_col3\" class=\"data row5 col3\" >17</td>\n",
       "                        <td id=\"T_cd0cef3e_43d8_11e9_a7f0_6a00038c4c30row5_col4\" class=\"data row5 col4\" >nan</td>\n",
       "                        <td id=\"T_cd0cef3e_43d8_11e9_a7f0_6a00038c4c30row5_col5\" class=\"data row5 col5\" >nan</td>\n",
       "                        <td id=\"T_cd0cef3e_43d8_11e9_a7f0_6a00038c4c30row5_col6\" class=\"data row5 col6\" >nan</td>\n",
       "                        <td id=\"T_cd0cef3e_43d8_11e9_a7f0_6a00038c4c30row5_col7\" class=\"data row5 col7\" >nan</td>\n",
       "                        <td id=\"T_cd0cef3e_43d8_11e9_a7f0_6a00038c4c30row5_col8\" class=\"data row5 col8\" >nan</td>\n",
       "                        <td id=\"T_cd0cef3e_43d8_11e9_a7f0_6a00038c4c30row5_col9\" class=\"data row5 col9\" >nan</td>\n",
       "                        <td id=\"T_cd0cef3e_43d8_11e9_a7f0_6a00038c4c30row5_col10\" class=\"data row5 col10\" >nan</td>\n",
       "            </tr>\n",
       "            <tr>\n",
       "                        <th id=\"T_cd0cef3e_43d8_11e9_a7f0_6a00038c4c30level0_row6\" class=\"row_heading level0 row6\" >act_english</th>\n",
       "                        <td id=\"T_cd0cef3e_43d8_11e9_a7f0_6a00038c4c30row6_col0\" class=\"data row6 col0\" >51</td>\n",
       "                        <td id=\"T_cd0cef3e_43d8_11e9_a7f0_6a00038c4c30row6_col1\" class=\"data row6 col1\" >nan</td>\n",
       "                        <td id=\"T_cd0cef3e_43d8_11e9_a7f0_6a00038c4c30row6_col2\" class=\"data row6 col2\" >nan</td>\n",
       "                        <td id=\"T_cd0cef3e_43d8_11e9_a7f0_6a00038c4c30row6_col3\" class=\"data row6 col3\" >nan</td>\n",
       "                        <td id=\"T_cd0cef3e_43d8_11e9_a7f0_6a00038c4c30row6_col4\" class=\"data row6 col4\" >20.9314</td>\n",
       "                        <td id=\"T_cd0cef3e_43d8_11e9_a7f0_6a00038c4c30row6_col5\" class=\"data row6 col5\" >2.35368</td>\n",
       "                        <td id=\"T_cd0cef3e_43d8_11e9_a7f0_6a00038c4c30row6_col6\" class=\"data row6 col6\" >16.3</td>\n",
       "                        <td id=\"T_cd0cef3e_43d8_11e9_a7f0_6a00038c4c30row6_col7\" class=\"data row6 col7\" >19</td>\n",
       "                        <td id=\"T_cd0cef3e_43d8_11e9_a7f0_6a00038c4c30row6_col8\" class=\"data row6 col8\" >20.7</td>\n",
       "                        <td id=\"T_cd0cef3e_43d8_11e9_a7f0_6a00038c4c30row6_col9\" class=\"data row6 col9\" >23.3</td>\n",
       "                        <td id=\"T_cd0cef3e_43d8_11e9_a7f0_6a00038c4c30row6_col10\" class=\"data row6 col10\" >25.5</td>\n",
       "            </tr>\n",
       "            <tr>\n",
       "                        <th id=\"T_cd0cef3e_43d8_11e9_a7f0_6a00038c4c30level0_row7\" class=\"row_heading level0 row7\" >act_math</th>\n",
       "                        <td id=\"T_cd0cef3e_43d8_11e9_a7f0_6a00038c4c30row7_col0\" class=\"data row7 col0\" >51</td>\n",
       "                        <td id=\"T_cd0cef3e_43d8_11e9_a7f0_6a00038c4c30row7_col1\" class=\"data row7 col1\" >nan</td>\n",
       "                        <td id=\"T_cd0cef3e_43d8_11e9_a7f0_6a00038c4c30row7_col2\" class=\"data row7 col2\" >nan</td>\n",
       "                        <td id=\"T_cd0cef3e_43d8_11e9_a7f0_6a00038c4c30row7_col3\" class=\"data row7 col3\" >nan</td>\n",
       "                        <td id=\"T_cd0cef3e_43d8_11e9_a7f0_6a00038c4c30row7_col4\" class=\"data row7 col4\" >21.1824</td>\n",
       "                        <td id=\"T_cd0cef3e_43d8_11e9_a7f0_6a00038c4c30row7_col5\" class=\"data row7 col5\" >1.98199</td>\n",
       "                        <td id=\"T_cd0cef3e_43d8_11e9_a7f0_6a00038c4c30row7_col6\" class=\"data row7 col6\" >18</td>\n",
       "                        <td id=\"T_cd0cef3e_43d8_11e9_a7f0_6a00038c4c30row7_col7\" class=\"data row7 col7\" >19.4</td>\n",
       "                        <td id=\"T_cd0cef3e_43d8_11e9_a7f0_6a00038c4c30row7_col8\" class=\"data row7 col8\" >20.9</td>\n",
       "                        <td id=\"T_cd0cef3e_43d8_11e9_a7f0_6a00038c4c30row7_col9\" class=\"data row7 col9\" >23.1</td>\n",
       "                        <td id=\"T_cd0cef3e_43d8_11e9_a7f0_6a00038c4c30row7_col10\" class=\"data row7 col10\" >25.3</td>\n",
       "            </tr>\n",
       "            <tr>\n",
       "                        <th id=\"T_cd0cef3e_43d8_11e9_a7f0_6a00038c4c30level0_row8\" class=\"row_heading level0 row8\" >act_reading</th>\n",
       "                        <td id=\"T_cd0cef3e_43d8_11e9_a7f0_6a00038c4c30row8_col0\" class=\"data row8 col0\" >51</td>\n",
       "                        <td id=\"T_cd0cef3e_43d8_11e9_a7f0_6a00038c4c30row8_col1\" class=\"data row8 col1\" >nan</td>\n",
       "                        <td id=\"T_cd0cef3e_43d8_11e9_a7f0_6a00038c4c30row8_col2\" class=\"data row8 col2\" >nan</td>\n",
       "                        <td id=\"T_cd0cef3e_43d8_11e9_a7f0_6a00038c4c30row8_col3\" class=\"data row8 col3\" >nan</td>\n",
       "                        <td id=\"T_cd0cef3e_43d8_11e9_a7f0_6a00038c4c30row8_col4\" class=\"data row8 col4\" >22.0137</td>\n",
       "                        <td id=\"T_cd0cef3e_43d8_11e9_a7f0_6a00038c4c30row8_col5\" class=\"data row8 col5\" >2.06727</td>\n",
       "                        <td id=\"T_cd0cef3e_43d8_11e9_a7f0_6a00038c4c30row8_col6\" class=\"data row8 col6\" >18.1</td>\n",
       "                        <td id=\"T_cd0cef3e_43d8_11e9_a7f0_6a00038c4c30row8_col7\" class=\"data row8 col7\" >20.45</td>\n",
       "                        <td id=\"T_cd0cef3e_43d8_11e9_a7f0_6a00038c4c30row8_col8\" class=\"data row8 col8\" >21.8</td>\n",
       "                        <td id=\"T_cd0cef3e_43d8_11e9_a7f0_6a00038c4c30row8_col9\" class=\"data row8 col9\" >24.15</td>\n",
       "                        <td id=\"T_cd0cef3e_43d8_11e9_a7f0_6a00038c4c30row8_col10\" class=\"data row8 col10\" >26</td>\n",
       "            </tr>\n",
       "            <tr>\n",
       "                        <th id=\"T_cd0cef3e_43d8_11e9_a7f0_6a00038c4c30level0_row9\" class=\"row_heading level0 row9\" >act_science</th>\n",
       "                        <td id=\"T_cd0cef3e_43d8_11e9_a7f0_6a00038c4c30row9_col0\" class=\"data row9 col0\" >51</td>\n",
       "                        <td id=\"T_cd0cef3e_43d8_11e9_a7f0_6a00038c4c30row9_col1\" class=\"data row9 col1\" >nan</td>\n",
       "                        <td id=\"T_cd0cef3e_43d8_11e9_a7f0_6a00038c4c30row9_col2\" class=\"data row9 col2\" >nan</td>\n",
       "                        <td id=\"T_cd0cef3e_43d8_11e9_a7f0_6a00038c4c30row9_col3\" class=\"data row9 col3\" >nan</td>\n",
       "                        <td id=\"T_cd0cef3e_43d8_11e9_a7f0_6a00038c4c30row9_col4\" class=\"data row9 col4\" >21.0412</td>\n",
       "                        <td id=\"T_cd0cef3e_43d8_11e9_a7f0_6a00038c4c30row9_col5\" class=\"data row9 col5\" >3.18246</td>\n",
       "                        <td id=\"T_cd0cef3e_43d8_11e9_a7f0_6a00038c4c30row9_col6\" class=\"data row9 col6\" >2.3</td>\n",
       "                        <td id=\"T_cd0cef3e_43d8_11e9_a7f0_6a00038c4c30row9_col7\" class=\"data row9 col7\" >19.9</td>\n",
       "                        <td id=\"T_cd0cef3e_43d8_11e9_a7f0_6a00038c4c30row9_col8\" class=\"data row9 col8\" >21.3</td>\n",
       "                        <td id=\"T_cd0cef3e_43d8_11e9_a7f0_6a00038c4c30row9_col9\" class=\"data row9 col9\" >22.75</td>\n",
       "                        <td id=\"T_cd0cef3e_43d8_11e9_a7f0_6a00038c4c30row9_col10\" class=\"data row9 col10\" >24.9</td>\n",
       "            </tr>\n",
       "            <tr>\n",
       "                        <th id=\"T_cd0cef3e_43d8_11e9_a7f0_6a00038c4c30level0_row10\" class=\"row_heading level0 row10\" >act_composite</th>\n",
       "                        <td id=\"T_cd0cef3e_43d8_11e9_a7f0_6a00038c4c30row10_col0\" class=\"data row10 col0\" >51</td>\n",
       "                        <td id=\"T_cd0cef3e_43d8_11e9_a7f0_6a00038c4c30row10_col1\" class=\"data row10 col1\" >37</td>\n",
       "                        <td id=\"T_cd0cef3e_43d8_11e9_a7f0_6a00038c4c30row10_col2\" class=\"data row10 col2\" >21.4</td>\n",
       "                        <td id=\"T_cd0cef3e_43d8_11e9_a7f0_6a00038c4c30row10_col3\" class=\"data row10 col3\" >3</td>\n",
       "                        <td id=\"T_cd0cef3e_43d8_11e9_a7f0_6a00038c4c30row10_col4\" class=\"data row10 col4\" >nan</td>\n",
       "                        <td id=\"T_cd0cef3e_43d8_11e9_a7f0_6a00038c4c30row10_col5\" class=\"data row10 col5\" >nan</td>\n",
       "                        <td id=\"T_cd0cef3e_43d8_11e9_a7f0_6a00038c4c30row10_col6\" class=\"data row10 col6\" >nan</td>\n",
       "                        <td id=\"T_cd0cef3e_43d8_11e9_a7f0_6a00038c4c30row10_col7\" class=\"data row10 col7\" >nan</td>\n",
       "                        <td id=\"T_cd0cef3e_43d8_11e9_a7f0_6a00038c4c30row10_col8\" class=\"data row10 col8\" >nan</td>\n",
       "                        <td id=\"T_cd0cef3e_43d8_11e9_a7f0_6a00038c4c30row10_col9\" class=\"data row10 col9\" >nan</td>\n",
       "                        <td id=\"T_cd0cef3e_43d8_11e9_a7f0_6a00038c4c30row10_col10\" class=\"data row10 col10\" >nan</td>\n",
       "            </tr>\n",
       "    </tbody></table>"
      ],
      "text/plain": [
       "<pandas.io.formats.style.Styler at 0x1a1fca06d8>"
      ]
     },
     "execution_count": 14,
     "metadata": {},
     "output_type": "execute_result"
    }
   ],
   "source": [
    "# descriptive statistics with 6 sig fig precision. \n",
    "data.describe(include = 'all').T.style.set_precision(6) # include = 'all' ensures that all variables are represented, even those with non-numeric types for which descriptive stats such as mean and std cannot be computed due to their non-numeric data types. Such variables will display their stats with a 'nan'"
   ]
  },
  {
   "cell_type": "markdown",
   "metadata": {},
   "source": [
    "Having viewed the first few rows of the data before, we know that **sat_participation, act_participation** and **act_composite** variables contain values that are numbers, however are of string datatypes. We now need to convert them to numeric datatypes so we can perform computations on them.\n",
    "\n",
    "The **sat_participation** and **act_participation** variables appear to have string datatypes due to the '%'. So let's clean that up and convert them to numeric (floats). We also want to divide their values by 100 because we don't need the percentage scale. "
   ]
  },
  {
   "cell_type": "code",
   "execution_count": 15,
   "metadata": {},
   "outputs": [],
   "source": [
    "# strip \"%\" from values in sat_participation and act_participation \n",
    "for i in data['sat_participation']:\n",
    "    data[\"sat_participation\"] = data[\"sat_participation\"].str.rstrip('%')\n",
    "\n",
    "for i in data['act_participation']:\n",
    "    data[\"act_participation\"] = data[\"act_participation\"].str.rstrip('%')\n",
    "    \n",
    "# convert values in sat_participation and act_participation to floats\n",
    "data[\"sat_participation\"] = data[\"sat_participation\"].astype('float')\n",
    "data[\"act_participation\"] = data[\"act_participation\"].astype('float')\n",
    "\n",
    "# divide the values by 100\n",
    "data['sat_participation'] = data['sat_participation']/100\n",
    "data['act_participation'] = data['act_participation']/100"
   ]
  },
  {
   "cell_type": "code",
   "execution_count": 16,
   "metadata": {},
   "outputs": [
    {
     "data": {
      "text/html": [
       "<div>\n",
       "<style scoped>\n",
       "    .dataframe tbody tr th:only-of-type {\n",
       "        vertical-align: middle;\n",
       "    }\n",
       "\n",
       "    .dataframe tbody tr th {\n",
       "        vertical-align: top;\n",
       "    }\n",
       "\n",
       "    .dataframe thead th {\n",
       "        text-align: right;\n",
       "    }\n",
       "</style>\n",
       "<table border=\"1\" class=\"dataframe\">\n",
       "  <thead>\n",
       "    <tr style=\"text-align: right;\">\n",
       "      <th></th>\n",
       "      <th>state</th>\n",
       "      <th>sat_participation</th>\n",
       "      <th>sat_read_write</th>\n",
       "      <th>sat_math</th>\n",
       "      <th>sat_total</th>\n",
       "      <th>act_participation</th>\n",
       "      <th>act_english</th>\n",
       "      <th>act_math</th>\n",
       "      <th>act_reading</th>\n",
       "      <th>act_science</th>\n",
       "      <th>act_composite</th>\n",
       "    </tr>\n",
       "  </thead>\n",
       "  <tbody>\n",
       "    <tr>\n",
       "      <th>0</th>\n",
       "      <td>Alabama</td>\n",
       "      <td>0.05</td>\n",
       "      <td>593</td>\n",
       "      <td>572</td>\n",
       "      <td>1165</td>\n",
       "      <td>1.00</td>\n",
       "      <td>18.9</td>\n",
       "      <td>18.4</td>\n",
       "      <td>19.7</td>\n",
       "      <td>19.4</td>\n",
       "      <td>19.2</td>\n",
       "    </tr>\n",
       "    <tr>\n",
       "      <th>1</th>\n",
       "      <td>Alaska</td>\n",
       "      <td>0.38</td>\n",
       "      <td>547</td>\n",
       "      <td>533</td>\n",
       "      <td>1080</td>\n",
       "      <td>0.65</td>\n",
       "      <td>18.7</td>\n",
       "      <td>19.8</td>\n",
       "      <td>20.4</td>\n",
       "      <td>19.9</td>\n",
       "      <td>19.8</td>\n",
       "    </tr>\n",
       "    <tr>\n",
       "      <th>2</th>\n",
       "      <td>Arizona</td>\n",
       "      <td>0.30</td>\n",
       "      <td>563</td>\n",
       "      <td>553</td>\n",
       "      <td>1116</td>\n",
       "      <td>0.62</td>\n",
       "      <td>18.6</td>\n",
       "      <td>19.8</td>\n",
       "      <td>20.1</td>\n",
       "      <td>19.8</td>\n",
       "      <td>19.7</td>\n",
       "    </tr>\n",
       "    <tr>\n",
       "      <th>3</th>\n",
       "      <td>Arkansas</td>\n",
       "      <td>0.03</td>\n",
       "      <td>614</td>\n",
       "      <td>594</td>\n",
       "      <td>1208</td>\n",
       "      <td>1.00</td>\n",
       "      <td>18.9</td>\n",
       "      <td>19.0</td>\n",
       "      <td>19.7</td>\n",
       "      <td>19.5</td>\n",
       "      <td>19.4</td>\n",
       "    </tr>\n",
       "    <tr>\n",
       "      <th>4</th>\n",
       "      <td>California</td>\n",
       "      <td>0.53</td>\n",
       "      <td>531</td>\n",
       "      <td>524</td>\n",
       "      <td>1055</td>\n",
       "      <td>0.31</td>\n",
       "      <td>22.5</td>\n",
       "      <td>22.7</td>\n",
       "      <td>23.1</td>\n",
       "      <td>22.2</td>\n",
       "      <td>22.8</td>\n",
       "    </tr>\n",
       "  </tbody>\n",
       "</table>\n",
       "</div>"
      ],
      "text/plain": [
       "        state  sat_participation  sat_read_write  sat_math  sat_total  \\\n",
       "0     Alabama               0.05             593       572       1165   \n",
       "1      Alaska               0.38             547       533       1080   \n",
       "2     Arizona               0.30             563       553       1116   \n",
       "3    Arkansas               0.03             614       594       1208   \n",
       "4  California               0.53             531       524       1055   \n",
       "\n",
       "   act_participation  act_english  act_math  act_reading  act_science  \\\n",
       "0               1.00         18.9      18.4         19.7         19.4   \n",
       "1               0.65         18.7      19.8         20.4         19.9   \n",
       "2               0.62         18.6      19.8         20.1         19.8   \n",
       "3               1.00         18.9      19.0         19.7         19.5   \n",
       "4               0.31         22.5      22.7         23.1         22.2   \n",
       "\n",
       "  act_composite  \n",
       "0          19.2  \n",
       "1          19.8  \n",
       "2          19.7  \n",
       "3          19.4  \n",
       "4          22.8  "
      ]
     },
     "execution_count": 16,
     "metadata": {},
     "output_type": "execute_result"
    }
   ],
   "source": [
    "data.head()"
   ]
  },
  {
   "cell_type": "markdown",
   "metadata": {},
   "source": [
    "Now let's find out why the **act_composite** variable is not numeric, even though it appears as if it should be given the format of the values. "
   ]
  },
  {
   "cell_type": "code",
   "execution_count": 17,
   "metadata": {},
   "outputs": [
    {
     "data": {
      "text/plain": [
       "array(['19.2', '19.8', '19.7', '19.4', '22.8', '20.8', '25.2', '24.1',\n",
       "       '24.2', '21.4', '19.0', '22.3', '22.6', '21.9', '21.7', '20.0',\n",
       "       '19.5', '24.3', '23.6', '25.4', '21.5', '18.6', '20.4', '20.3',\n",
       "       '17.8', '25.5', '23.9', '19.1', '22.0', '21.8', '23.7', '24.0',\n",
       "       '18.7', '20.7', '23.8', '20.5', '20.2x'], dtype=object)"
      ]
     },
     "execution_count": 17,
     "metadata": {},
     "output_type": "execute_result"
    }
   ],
   "source": [
    "data['act_composite'].unique()"
   ]
  },
  {
   "cell_type": "markdown",
   "metadata": {},
   "source": [
    "It looks like one of the values in **act_numeric** contains an **'x'** in it which is probably what's causing this variable to be of datatype string. We need to clean that up. "
   ]
  },
  {
   "cell_type": "code",
   "execution_count": 18,
   "metadata": {},
   "outputs": [
    {
     "data": {
      "text/plain": [
       "Int64Index([50], dtype='int64')"
      ]
     },
     "execution_count": 18,
     "metadata": {},
     "output_type": "execute_result"
    }
   ],
   "source": [
    "# get the index of the row which contains the dirty value in **act_composite** column \n",
    "data[data['act_composite']=='20.2x'].index"
   ]
  },
  {
   "cell_type": "code",
   "execution_count": 19,
   "metadata": {},
   "outputs": [
    {
     "name": "stderr",
     "output_type": "stream",
     "text": [
      "/anaconda3/lib/python3.7/site-packages/ipykernel_launcher.py:3: SettingWithCopyWarning: \n",
      "A value is trying to be set on a copy of a slice from a DataFrame\n",
      "\n",
      "See the caveats in the documentation: http://pandas.pydata.org/pandas-docs/stable/indexing.html#indexing-view-versus-copy\n",
      "  This is separate from the ipykernel package so we can avoid doing imports until\n"
     ]
    },
    {
     "data": {
      "text/plain": [
       "'20.2'"
      ]
     },
     "execution_count": 19,
     "metadata": {},
     "output_type": "execute_result"
    }
   ],
   "source": [
    "# strip the value of the 'x' that's contaminating it\n",
    "dirty_string = data['act_composite'][50]\n",
    "data['act_composite'][50] = dirty_string.rstrip('x')\n",
    "# check and make sure the value no longer contains the 'x'\n",
    "data['act_composite'][50]"
   ]
  },
  {
   "cell_type": "code",
   "execution_count": 20,
   "metadata": {},
   "outputs": [
    {
     "data": {
      "text/plain": [
       "state                 object\n",
       "sat_participation    float64\n",
       "sat_read_write         int64\n",
       "sat_math               int64\n",
       "sat_total              int64\n",
       "act_participation    float64\n",
       "act_english          float64\n",
       "act_math             float64\n",
       "act_reading          float64\n",
       "act_science          float64\n",
       "act_composite        float64\n",
       "dtype: object"
      ]
     },
     "execution_count": 20,
     "metadata": {},
     "output_type": "execute_result"
    }
   ],
   "source": [
    "# convert **act_composite** to float dataype \n",
    "data[\"act_composite\"] = data[\"act_composite\"].astype('float')\n",
    "# check the datatypes of the columns \n",
    "data.dtypes"
   ]
  },
  {
   "cell_type": "code",
   "execution_count": 21,
   "metadata": {},
   "outputs": [
    {
     "data": {
      "text/html": [
       "<div>\n",
       "<style scoped>\n",
       "    .dataframe tbody tr th:only-of-type {\n",
       "        vertical-align: middle;\n",
       "    }\n",
       "\n",
       "    .dataframe tbody tr th {\n",
       "        vertical-align: top;\n",
       "    }\n",
       "\n",
       "    .dataframe thead th {\n",
       "        text-align: right;\n",
       "    }\n",
       "</style>\n",
       "<table border=\"1\" class=\"dataframe\">\n",
       "  <thead>\n",
       "    <tr style=\"text-align: right;\">\n",
       "      <th></th>\n",
       "      <th>state</th>\n",
       "      <th>sat_participation</th>\n",
       "      <th>sat_read_write</th>\n",
       "      <th>sat_math</th>\n",
       "      <th>sat_total</th>\n",
       "      <th>act_participation</th>\n",
       "      <th>act_english</th>\n",
       "      <th>act_math</th>\n",
       "      <th>act_reading</th>\n",
       "      <th>act_science</th>\n",
       "      <th>act_composite</th>\n",
       "    </tr>\n",
       "  </thead>\n",
       "  <tbody>\n",
       "    <tr>\n",
       "      <th>0</th>\n",
       "      <td>Alabama</td>\n",
       "      <td>0.05</td>\n",
       "      <td>593</td>\n",
       "      <td>572</td>\n",
       "      <td>1165</td>\n",
       "      <td>1.00</td>\n",
       "      <td>18.9</td>\n",
       "      <td>18.4</td>\n",
       "      <td>19.7</td>\n",
       "      <td>19.4</td>\n",
       "      <td>19.2</td>\n",
       "    </tr>\n",
       "    <tr>\n",
       "      <th>1</th>\n",
       "      <td>Alaska</td>\n",
       "      <td>0.38</td>\n",
       "      <td>547</td>\n",
       "      <td>533</td>\n",
       "      <td>1080</td>\n",
       "      <td>0.65</td>\n",
       "      <td>18.7</td>\n",
       "      <td>19.8</td>\n",
       "      <td>20.4</td>\n",
       "      <td>19.9</td>\n",
       "      <td>19.8</td>\n",
       "    </tr>\n",
       "    <tr>\n",
       "      <th>2</th>\n",
       "      <td>Arizona</td>\n",
       "      <td>0.30</td>\n",
       "      <td>563</td>\n",
       "      <td>553</td>\n",
       "      <td>1116</td>\n",
       "      <td>0.62</td>\n",
       "      <td>18.6</td>\n",
       "      <td>19.8</td>\n",
       "      <td>20.1</td>\n",
       "      <td>19.8</td>\n",
       "      <td>19.7</td>\n",
       "    </tr>\n",
       "    <tr>\n",
       "      <th>3</th>\n",
       "      <td>Arkansas</td>\n",
       "      <td>0.03</td>\n",
       "      <td>614</td>\n",
       "      <td>594</td>\n",
       "      <td>1208</td>\n",
       "      <td>1.00</td>\n",
       "      <td>18.9</td>\n",
       "      <td>19.0</td>\n",
       "      <td>19.7</td>\n",
       "      <td>19.5</td>\n",
       "      <td>19.4</td>\n",
       "    </tr>\n",
       "    <tr>\n",
       "      <th>4</th>\n",
       "      <td>California</td>\n",
       "      <td>0.53</td>\n",
       "      <td>531</td>\n",
       "      <td>524</td>\n",
       "      <td>1055</td>\n",
       "      <td>0.31</td>\n",
       "      <td>22.5</td>\n",
       "      <td>22.7</td>\n",
       "      <td>23.1</td>\n",
       "      <td>22.2</td>\n",
       "      <td>22.8</td>\n",
       "    </tr>\n",
       "  </tbody>\n",
       "</table>\n",
       "</div>"
      ],
      "text/plain": [
       "        state  sat_participation  sat_read_write  sat_math  sat_total  \\\n",
       "0     Alabama               0.05             593       572       1165   \n",
       "1      Alaska               0.38             547       533       1080   \n",
       "2     Arizona               0.30             563       553       1116   \n",
       "3    Arkansas               0.03             614       594       1208   \n",
       "4  California               0.53             531       524       1055   \n",
       "\n",
       "   act_participation  act_english  act_math  act_reading  act_science  \\\n",
       "0               1.00         18.9      18.4         19.7         19.4   \n",
       "1               0.65         18.7      19.8         20.4         19.9   \n",
       "2               0.62         18.6      19.8         20.1         19.8   \n",
       "3               1.00         18.9      19.0         19.7         19.5   \n",
       "4               0.31         22.5      22.7         23.1         22.2   \n",
       "\n",
       "   act_composite  \n",
       "0           19.2  \n",
       "1           19.8  \n",
       "2           19.7  \n",
       "3           19.4  \n",
       "4           22.8  "
      ]
     },
     "execution_count": 21,
     "metadata": {},
     "output_type": "execute_result"
    }
   ],
   "source": [
    "data.head()"
   ]
  },
  {
   "cell_type": "markdown",
   "metadata": {},
   "source": [
    "Now that all the variables are of the correct datatypes, we can run .describe() on the data again"
   ]
  },
  {
   "cell_type": "code",
   "execution_count": 22,
   "metadata": {},
   "outputs": [
    {
     "data": {
      "text/html": [
       "<style  type=\"text/css\" >\n",
       "</style><table id=\"T_cd38c956_43d8_11e9_a7f0_6a00038c4c30\" ><thead>    <tr>        <th class=\"blank level0\" ></th>        <th class=\"col_heading level0 col0\" >count</th>        <th class=\"col_heading level0 col1\" >mean</th>        <th class=\"col_heading level0 col2\" >std</th>        <th class=\"col_heading level0 col3\" >min</th>        <th class=\"col_heading level0 col4\" >25%</th>        <th class=\"col_heading level0 col5\" >50%</th>        <th class=\"col_heading level0 col6\" >75%</th>        <th class=\"col_heading level0 col7\" >max</th>    </tr></thead><tbody>\n",
       "                <tr>\n",
       "                        <th id=\"T_cd38c956_43d8_11e9_a7f0_6a00038c4c30level0_row0\" class=\"row_heading level0 row0\" >sat_participation</th>\n",
       "                        <td id=\"T_cd38c956_43d8_11e9_a7f0_6a00038c4c30row0_col0\" class=\"data row0 col0\" >51</td>\n",
       "                        <td id=\"T_cd38c956_43d8_11e9_a7f0_6a00038c4c30row0_col1\" class=\"data row0 col1\" >0.398039</td>\n",
       "                        <td id=\"T_cd38c956_43d8_11e9_a7f0_6a00038c4c30row0_col2\" class=\"data row0 col2\" >0.352766</td>\n",
       "                        <td id=\"T_cd38c956_43d8_11e9_a7f0_6a00038c4c30row0_col3\" class=\"data row0 col3\" >0.02</td>\n",
       "                        <td id=\"T_cd38c956_43d8_11e9_a7f0_6a00038c4c30row0_col4\" class=\"data row0 col4\" >0.04</td>\n",
       "                        <td id=\"T_cd38c956_43d8_11e9_a7f0_6a00038c4c30row0_col5\" class=\"data row0 col5\" >0.38</td>\n",
       "                        <td id=\"T_cd38c956_43d8_11e9_a7f0_6a00038c4c30row0_col6\" class=\"data row0 col6\" >0.66</td>\n",
       "                        <td id=\"T_cd38c956_43d8_11e9_a7f0_6a00038c4c30row0_col7\" class=\"data row0 col7\" >1</td>\n",
       "            </tr>\n",
       "            <tr>\n",
       "                        <th id=\"T_cd38c956_43d8_11e9_a7f0_6a00038c4c30level0_row1\" class=\"row_heading level0 row1\" >sat_read_write</th>\n",
       "                        <td id=\"T_cd38c956_43d8_11e9_a7f0_6a00038c4c30row1_col0\" class=\"data row1 col0\" >51</td>\n",
       "                        <td id=\"T_cd38c956_43d8_11e9_a7f0_6a00038c4c30row1_col1\" class=\"data row1 col1\" >569.118</td>\n",
       "                        <td id=\"T_cd38c956_43d8_11e9_a7f0_6a00038c4c30row1_col2\" class=\"data row1 col2\" >45.6669</td>\n",
       "                        <td id=\"T_cd38c956_43d8_11e9_a7f0_6a00038c4c30row1_col3\" class=\"data row1 col3\" >482</td>\n",
       "                        <td id=\"T_cd38c956_43d8_11e9_a7f0_6a00038c4c30row1_col4\" class=\"data row1 col4\" >533.5</td>\n",
       "                        <td id=\"T_cd38c956_43d8_11e9_a7f0_6a00038c4c30row1_col5\" class=\"data row1 col5\" >559</td>\n",
       "                        <td id=\"T_cd38c956_43d8_11e9_a7f0_6a00038c4c30row1_col6\" class=\"data row1 col6\" >613</td>\n",
       "                        <td id=\"T_cd38c956_43d8_11e9_a7f0_6a00038c4c30row1_col7\" class=\"data row1 col7\" >644</td>\n",
       "            </tr>\n",
       "            <tr>\n",
       "                        <th id=\"T_cd38c956_43d8_11e9_a7f0_6a00038c4c30level0_row2\" class=\"row_heading level0 row2\" >sat_math</th>\n",
       "                        <td id=\"T_cd38c956_43d8_11e9_a7f0_6a00038c4c30row2_col0\" class=\"data row2 col0\" >51</td>\n",
       "                        <td id=\"T_cd38c956_43d8_11e9_a7f0_6a00038c4c30row2_col1\" class=\"data row2 col1\" >547.627</td>\n",
       "                        <td id=\"T_cd38c956_43d8_11e9_a7f0_6a00038c4c30row2_col2\" class=\"data row2 col2\" >84.9091</td>\n",
       "                        <td id=\"T_cd38c956_43d8_11e9_a7f0_6a00038c4c30row2_col3\" class=\"data row2 col3\" >52</td>\n",
       "                        <td id=\"T_cd38c956_43d8_11e9_a7f0_6a00038c4c30row2_col4\" class=\"data row2 col4\" >522</td>\n",
       "                        <td id=\"T_cd38c956_43d8_11e9_a7f0_6a00038c4c30row2_col5\" class=\"data row2 col5\" >548</td>\n",
       "                        <td id=\"T_cd38c956_43d8_11e9_a7f0_6a00038c4c30row2_col6\" class=\"data row2 col6\" >599</td>\n",
       "                        <td id=\"T_cd38c956_43d8_11e9_a7f0_6a00038c4c30row2_col7\" class=\"data row2 col7\" >651</td>\n",
       "            </tr>\n",
       "            <tr>\n",
       "                        <th id=\"T_cd38c956_43d8_11e9_a7f0_6a00038c4c30level0_row3\" class=\"row_heading level0 row3\" >sat_total</th>\n",
       "                        <td id=\"T_cd38c956_43d8_11e9_a7f0_6a00038c4c30row3_col0\" class=\"data row3 col0\" >51</td>\n",
       "                        <td id=\"T_cd38c956_43d8_11e9_a7f0_6a00038c4c30row3_col1\" class=\"data row3 col1\" >1126.1</td>\n",
       "                        <td id=\"T_cd38c956_43d8_11e9_a7f0_6a00038c4c30row3_col2\" class=\"data row3 col2\" >92.4948</td>\n",
       "                        <td id=\"T_cd38c956_43d8_11e9_a7f0_6a00038c4c30row3_col3\" class=\"data row3 col3\" >950</td>\n",
       "                        <td id=\"T_cd38c956_43d8_11e9_a7f0_6a00038c4c30row3_col4\" class=\"data row3 col4\" >1055.5</td>\n",
       "                        <td id=\"T_cd38c956_43d8_11e9_a7f0_6a00038c4c30row3_col5\" class=\"data row3 col5\" >1107</td>\n",
       "                        <td id=\"T_cd38c956_43d8_11e9_a7f0_6a00038c4c30row3_col6\" class=\"data row3 col6\" >1212</td>\n",
       "                        <td id=\"T_cd38c956_43d8_11e9_a7f0_6a00038c4c30row3_col7\" class=\"data row3 col7\" >1295</td>\n",
       "            </tr>\n",
       "            <tr>\n",
       "                        <th id=\"T_cd38c956_43d8_11e9_a7f0_6a00038c4c30level0_row4\" class=\"row_heading level0 row4\" >act_participation</th>\n",
       "                        <td id=\"T_cd38c956_43d8_11e9_a7f0_6a00038c4c30row4_col0\" class=\"data row4 col0\" >51</td>\n",
       "                        <td id=\"T_cd38c956_43d8_11e9_a7f0_6a00038c4c30row4_col1\" class=\"data row4 col1\" >0.652549</td>\n",
       "                        <td id=\"T_cd38c956_43d8_11e9_a7f0_6a00038c4c30row4_col2\" class=\"data row4 col2\" >0.321408</td>\n",
       "                        <td id=\"T_cd38c956_43d8_11e9_a7f0_6a00038c4c30row4_col3\" class=\"data row4 col3\" >0.08</td>\n",
       "                        <td id=\"T_cd38c956_43d8_11e9_a7f0_6a00038c4c30row4_col4\" class=\"data row4 col4\" >0.31</td>\n",
       "                        <td id=\"T_cd38c956_43d8_11e9_a7f0_6a00038c4c30row4_col5\" class=\"data row4 col5\" >0.69</td>\n",
       "                        <td id=\"T_cd38c956_43d8_11e9_a7f0_6a00038c4c30row4_col6\" class=\"data row4 col6\" >1</td>\n",
       "                        <td id=\"T_cd38c956_43d8_11e9_a7f0_6a00038c4c30row4_col7\" class=\"data row4 col7\" >1</td>\n",
       "            </tr>\n",
       "            <tr>\n",
       "                        <th id=\"T_cd38c956_43d8_11e9_a7f0_6a00038c4c30level0_row5\" class=\"row_heading level0 row5\" >act_english</th>\n",
       "                        <td id=\"T_cd38c956_43d8_11e9_a7f0_6a00038c4c30row5_col0\" class=\"data row5 col0\" >51</td>\n",
       "                        <td id=\"T_cd38c956_43d8_11e9_a7f0_6a00038c4c30row5_col1\" class=\"data row5 col1\" >20.9314</td>\n",
       "                        <td id=\"T_cd38c956_43d8_11e9_a7f0_6a00038c4c30row5_col2\" class=\"data row5 col2\" >2.35368</td>\n",
       "                        <td id=\"T_cd38c956_43d8_11e9_a7f0_6a00038c4c30row5_col3\" class=\"data row5 col3\" >16.3</td>\n",
       "                        <td id=\"T_cd38c956_43d8_11e9_a7f0_6a00038c4c30row5_col4\" class=\"data row5 col4\" >19</td>\n",
       "                        <td id=\"T_cd38c956_43d8_11e9_a7f0_6a00038c4c30row5_col5\" class=\"data row5 col5\" >20.7</td>\n",
       "                        <td id=\"T_cd38c956_43d8_11e9_a7f0_6a00038c4c30row5_col6\" class=\"data row5 col6\" >23.3</td>\n",
       "                        <td id=\"T_cd38c956_43d8_11e9_a7f0_6a00038c4c30row5_col7\" class=\"data row5 col7\" >25.5</td>\n",
       "            </tr>\n",
       "            <tr>\n",
       "                        <th id=\"T_cd38c956_43d8_11e9_a7f0_6a00038c4c30level0_row6\" class=\"row_heading level0 row6\" >act_math</th>\n",
       "                        <td id=\"T_cd38c956_43d8_11e9_a7f0_6a00038c4c30row6_col0\" class=\"data row6 col0\" >51</td>\n",
       "                        <td id=\"T_cd38c956_43d8_11e9_a7f0_6a00038c4c30row6_col1\" class=\"data row6 col1\" >21.1824</td>\n",
       "                        <td id=\"T_cd38c956_43d8_11e9_a7f0_6a00038c4c30row6_col2\" class=\"data row6 col2\" >1.98199</td>\n",
       "                        <td id=\"T_cd38c956_43d8_11e9_a7f0_6a00038c4c30row6_col3\" class=\"data row6 col3\" >18</td>\n",
       "                        <td id=\"T_cd38c956_43d8_11e9_a7f0_6a00038c4c30row6_col4\" class=\"data row6 col4\" >19.4</td>\n",
       "                        <td id=\"T_cd38c956_43d8_11e9_a7f0_6a00038c4c30row6_col5\" class=\"data row6 col5\" >20.9</td>\n",
       "                        <td id=\"T_cd38c956_43d8_11e9_a7f0_6a00038c4c30row6_col6\" class=\"data row6 col6\" >23.1</td>\n",
       "                        <td id=\"T_cd38c956_43d8_11e9_a7f0_6a00038c4c30row6_col7\" class=\"data row6 col7\" >25.3</td>\n",
       "            </tr>\n",
       "            <tr>\n",
       "                        <th id=\"T_cd38c956_43d8_11e9_a7f0_6a00038c4c30level0_row7\" class=\"row_heading level0 row7\" >act_reading</th>\n",
       "                        <td id=\"T_cd38c956_43d8_11e9_a7f0_6a00038c4c30row7_col0\" class=\"data row7 col0\" >51</td>\n",
       "                        <td id=\"T_cd38c956_43d8_11e9_a7f0_6a00038c4c30row7_col1\" class=\"data row7 col1\" >22.0137</td>\n",
       "                        <td id=\"T_cd38c956_43d8_11e9_a7f0_6a00038c4c30row7_col2\" class=\"data row7 col2\" >2.06727</td>\n",
       "                        <td id=\"T_cd38c956_43d8_11e9_a7f0_6a00038c4c30row7_col3\" class=\"data row7 col3\" >18.1</td>\n",
       "                        <td id=\"T_cd38c956_43d8_11e9_a7f0_6a00038c4c30row7_col4\" class=\"data row7 col4\" >20.45</td>\n",
       "                        <td id=\"T_cd38c956_43d8_11e9_a7f0_6a00038c4c30row7_col5\" class=\"data row7 col5\" >21.8</td>\n",
       "                        <td id=\"T_cd38c956_43d8_11e9_a7f0_6a00038c4c30row7_col6\" class=\"data row7 col6\" >24.15</td>\n",
       "                        <td id=\"T_cd38c956_43d8_11e9_a7f0_6a00038c4c30row7_col7\" class=\"data row7 col7\" >26</td>\n",
       "            </tr>\n",
       "            <tr>\n",
       "                        <th id=\"T_cd38c956_43d8_11e9_a7f0_6a00038c4c30level0_row8\" class=\"row_heading level0 row8\" >act_science</th>\n",
       "                        <td id=\"T_cd38c956_43d8_11e9_a7f0_6a00038c4c30row8_col0\" class=\"data row8 col0\" >51</td>\n",
       "                        <td id=\"T_cd38c956_43d8_11e9_a7f0_6a00038c4c30row8_col1\" class=\"data row8 col1\" >21.0412</td>\n",
       "                        <td id=\"T_cd38c956_43d8_11e9_a7f0_6a00038c4c30row8_col2\" class=\"data row8 col2\" >3.18246</td>\n",
       "                        <td id=\"T_cd38c956_43d8_11e9_a7f0_6a00038c4c30row8_col3\" class=\"data row8 col3\" >2.3</td>\n",
       "                        <td id=\"T_cd38c956_43d8_11e9_a7f0_6a00038c4c30row8_col4\" class=\"data row8 col4\" >19.9</td>\n",
       "                        <td id=\"T_cd38c956_43d8_11e9_a7f0_6a00038c4c30row8_col5\" class=\"data row8 col5\" >21.3</td>\n",
       "                        <td id=\"T_cd38c956_43d8_11e9_a7f0_6a00038c4c30row8_col6\" class=\"data row8 col6\" >22.75</td>\n",
       "                        <td id=\"T_cd38c956_43d8_11e9_a7f0_6a00038c4c30row8_col7\" class=\"data row8 col7\" >24.9</td>\n",
       "            </tr>\n",
       "            <tr>\n",
       "                        <th id=\"T_cd38c956_43d8_11e9_a7f0_6a00038c4c30level0_row9\" class=\"row_heading level0 row9\" >act_composite</th>\n",
       "                        <td id=\"T_cd38c956_43d8_11e9_a7f0_6a00038c4c30row9_col0\" class=\"data row9 col0\" >51</td>\n",
       "                        <td id=\"T_cd38c956_43d8_11e9_a7f0_6a00038c4c30row9_col1\" class=\"data row9 col1\" >21.5196</td>\n",
       "                        <td id=\"T_cd38c956_43d8_11e9_a7f0_6a00038c4c30row9_col2\" class=\"data row9 col2\" >2.02069</td>\n",
       "                        <td id=\"T_cd38c956_43d8_11e9_a7f0_6a00038c4c30row9_col3\" class=\"data row9 col3\" >17.8</td>\n",
       "                        <td id=\"T_cd38c956_43d8_11e9_a7f0_6a00038c4c30row9_col4\" class=\"data row9 col4\" >19.8</td>\n",
       "                        <td id=\"T_cd38c956_43d8_11e9_a7f0_6a00038c4c30row9_col5\" class=\"data row9 col5\" >21.4</td>\n",
       "                        <td id=\"T_cd38c956_43d8_11e9_a7f0_6a00038c4c30row9_col6\" class=\"data row9 col6\" >23.6</td>\n",
       "                        <td id=\"T_cd38c956_43d8_11e9_a7f0_6a00038c4c30row9_col7\" class=\"data row9 col7\" >25.5</td>\n",
       "            </tr>\n",
       "    </tbody></table>"
      ],
      "text/plain": [
       "<pandas.io.formats.style.Styler at 0x1a1fcc29b0>"
      ]
     },
     "execution_count": 22,
     "metadata": {},
     "output_type": "execute_result"
    }
   ],
   "source": [
    "data.describe().T.style.set_precision(6)"
   ]
  },
  {
   "cell_type": "markdown",
   "metadata": {},
   "source": [
    "To make interpret this table some context is needed on how act and sat scores work. \n",
    "\n",
    "* SAT: The sat score range is between 400 and 1600 for your total score, and 200-800 for each of your two subscores. One subscore is for Math, and one subscore is your combined Reading and Writing scores to make one “Evidence-Based Reading and Writing” score. \n",
    "\n",
    "\n",
    "* ACT: The act is scored on a scale of 1–36, and the average ACT score for the class of 2017 is 21. There are 4 sections on the ACT: English, Math, Reading, and Science. Each section is scored out of 36 points. Your composite ACT score is an average of your 4 section scores.\n",
    "\n",
    "Given this information, we know that sat scores cannot be below 200 per subscore. However, from the above table we see that the minimum value for sat_math is 52. This is obviously incorrect. Let's find where this value is positioned in the data frame and then compare it to the trusted source from which the data was extrcted ([SAT](https://blog.collegevine.com/here-are-the-average-sat-scores-by-state/),\n",
    "[ACT](https://blog.prepscholar.com/act-scores-by-state-averages-highs-and-lows)) to hopefully find the correct value and make the appropriate correction. \n",
    "\n"
   ]
  },
  {
   "cell_type": "code",
   "execution_count": 23,
   "metadata": {},
   "outputs": [
    {
     "data": {
      "text/plain": [
       "Int64Index([20], dtype='int64')"
      ]
     },
     "execution_count": 23,
     "metadata": {},
     "output_type": "execute_result"
    }
   ],
   "source": [
    "data[data['sat_math'] == 52].index"
   ]
  },
  {
   "cell_type": "code",
   "execution_count": 24,
   "metadata": {},
   "outputs": [
    {
     "name": "stderr",
     "output_type": "stream",
     "text": [
      "/anaconda3/lib/python3.7/site-packages/ipykernel_launcher.py:2: SettingWithCopyWarning: \n",
      "A value is trying to be set on a copy of a slice from a DataFrame.\n",
      "Try using .loc[row_indexer,col_indexer] = value instead\n",
      "\n",
      "See the caveats in the documentation: http://pandas.pydata.org/pandas-docs/stable/indexing.html#indexing-view-versus-copy\n",
      "  \n"
     ]
    },
    {
     "data": {
      "text/plain": [
       "state                Maryland\n",
       "sat_participation        0.69\n",
       "sat_read_write            536\n",
       "sat_math                  524\n",
       "sat_total                1060\n",
       "act_participation        0.28\n",
       "act_english              23.3\n",
       "act_math                 23.1\n",
       "act_reading              24.2\n",
       "act_science               2.3\n",
       "act_composite            23.6\n",
       "Name: 20, dtype: object"
      ]
     },
     "execution_count": 24,
     "metadata": {},
     "output_type": "execute_result"
    }
   ],
   "source": [
    "# fix the error in data in row 20, column 3 (the sat_math column) \n",
    "data[data['sat_math'] == 52]['sat_math'] = 524\n",
    "data.iloc[20,3]=524\n",
    "# check to make sure the incorrect value has been corrected\n",
    "data.loc[20,:]"
   ]
  },
  {
   "cell_type": "markdown",
   "metadata": {},
   "source": [
    "Everything looks good so far and is ready for further exploratory analyses. But first, let's save the new dataframe into a file and export it to the working directory.  "
   ]
  },
  {
   "cell_type": "code",
   "execution_count": 25,
   "metadata": {},
   "outputs": [],
   "source": [
    "# save data to a file \n",
    "data.to_csv('../data/combined_2017.csv')"
   ]
  },
  {
   "cell_type": "markdown",
   "metadata": {},
   "source": [
    "# 3. 2018 Data Import and Cleaning"
   ]
  },
  {
   "cell_type": "code",
   "execution_count": 26,
   "metadata": {},
   "outputs": [],
   "source": [
    "# import the data \n",
    "sat_2018 = pd.read_csv('../data/sat_2018.csv')\n",
    "act_2018 = pd.read_csv('../data/act_2018.csv')"
   ]
  },
  {
   "cell_type": "code",
   "execution_count": 27,
   "metadata": {},
   "outputs": [
    {
     "data": {
      "text/html": [
       "<div>\n",
       "<style scoped>\n",
       "    .dataframe tbody tr th:only-of-type {\n",
       "        vertical-align: middle;\n",
       "    }\n",
       "\n",
       "    .dataframe tbody tr th {\n",
       "        vertical-align: top;\n",
       "    }\n",
       "\n",
       "    .dataframe thead th {\n",
       "        text-align: right;\n",
       "    }\n",
       "</style>\n",
       "<table border=\"1\" class=\"dataframe\">\n",
       "  <thead>\n",
       "    <tr style=\"text-align: right;\">\n",
       "      <th></th>\n",
       "      <th>State</th>\n",
       "      <th>Participation</th>\n",
       "      <th>Evidence-Based Reading and Writing</th>\n",
       "      <th>Math</th>\n",
       "      <th>Total</th>\n",
       "      <th>Actual Total</th>\n",
       "      <th>Total - Actual Total</th>\n",
       "    </tr>\n",
       "  </thead>\n",
       "  <tbody>\n",
       "    <tr>\n",
       "      <th>0</th>\n",
       "      <td>Alabama</td>\n",
       "      <td>6%</td>\n",
       "      <td>595.0</td>\n",
       "      <td>571.0</td>\n",
       "      <td>1166.0</td>\n",
       "      <td>1166.0</td>\n",
       "      <td>0.0</td>\n",
       "    </tr>\n",
       "    <tr>\n",
       "      <th>1</th>\n",
       "      <td>Alaska</td>\n",
       "      <td>43%</td>\n",
       "      <td>562.0</td>\n",
       "      <td>544.0</td>\n",
       "      <td>1106.0</td>\n",
       "      <td>1106.0</td>\n",
       "      <td>0.0</td>\n",
       "    </tr>\n",
       "    <tr>\n",
       "      <th>2</th>\n",
       "      <td>Arizona</td>\n",
       "      <td>29%</td>\n",
       "      <td>577.0</td>\n",
       "      <td>572.0</td>\n",
       "      <td>1149.0</td>\n",
       "      <td>1149.0</td>\n",
       "      <td>0.0</td>\n",
       "    </tr>\n",
       "    <tr>\n",
       "      <th>3</th>\n",
       "      <td>Arkansas</td>\n",
       "      <td>5%</td>\n",
       "      <td>592.0</td>\n",
       "      <td>576.0</td>\n",
       "      <td>1169.0</td>\n",
       "      <td>1168.0</td>\n",
       "      <td>1.0</td>\n",
       "    </tr>\n",
       "    <tr>\n",
       "      <th>4</th>\n",
       "      <td>California</td>\n",
       "      <td>60%</td>\n",
       "      <td>540.0</td>\n",
       "      <td>536.0</td>\n",
       "      <td>1076.0</td>\n",
       "      <td>1076.0</td>\n",
       "      <td>0.0</td>\n",
       "    </tr>\n",
       "  </tbody>\n",
       "</table>\n",
       "</div>"
      ],
      "text/plain": [
       "        State Participation  Evidence-Based Reading and Writing   Math  \\\n",
       "0     Alabama            6%                               595.0  571.0   \n",
       "1      Alaska           43%                               562.0  544.0   \n",
       "2     Arizona           29%                               577.0  572.0   \n",
       "3    Arkansas            5%                               592.0  576.0   \n",
       "4  California           60%                               540.0  536.0   \n",
       "\n",
       "    Total  Actual Total  Total - Actual Total  \n",
       "0  1166.0        1166.0                   0.0  \n",
       "1  1106.0        1106.0                   0.0  \n",
       "2  1149.0        1149.0                   0.0  \n",
       "3  1169.0        1168.0                   1.0  \n",
       "4  1076.0        1076.0                   0.0  "
      ]
     },
     "execution_count": 27,
     "metadata": {},
     "output_type": "execute_result"
    }
   ],
   "source": [
    "# view first 5 rows of data\n",
    "sat_2018.head()"
   ]
  },
  {
   "cell_type": "code",
   "execution_count": 28,
   "metadata": {},
   "outputs": [],
   "source": [
    "# drop columns we don't need\n",
    "sat_2018.drop(['Actual Total', 'Total - Actual Total'], axis = 1, inplace = True)"
   ]
  },
  {
   "cell_type": "code",
   "execution_count": 29,
   "metadata": {},
   "outputs": [
    {
     "data": {
      "text/html": [
       "<div>\n",
       "<style scoped>\n",
       "    .dataframe tbody tr th:only-of-type {\n",
       "        vertical-align: middle;\n",
       "    }\n",
       "\n",
       "    .dataframe tbody tr th {\n",
       "        vertical-align: top;\n",
       "    }\n",
       "\n",
       "    .dataframe thead th {\n",
       "        text-align: right;\n",
       "    }\n",
       "</style>\n",
       "<table border=\"1\" class=\"dataframe\">\n",
       "  <thead>\n",
       "    <tr style=\"text-align: right;\">\n",
       "      <th></th>\n",
       "      <th>State</th>\n",
       "      <th>Participation</th>\n",
       "      <th>Composite</th>\n",
       "      <th>State.1</th>\n",
       "      <th>Participation.1</th>\n",
       "      <th>Composite.1</th>\n",
       "    </tr>\n",
       "  </thead>\n",
       "  <tbody>\n",
       "    <tr>\n",
       "      <th>0</th>\n",
       "      <td>Alabama</td>\n",
       "      <td>100%</td>\n",
       "      <td>19.1</td>\n",
       "      <td>Alabama</td>\n",
       "      <td>100%</td>\n",
       "      <td>19.1</td>\n",
       "    </tr>\n",
       "    <tr>\n",
       "      <th>1</th>\n",
       "      <td>Alaska</td>\n",
       "      <td>33%</td>\n",
       "      <td>20.8</td>\n",
       "      <td>Alaska</td>\n",
       "      <td>33%</td>\n",
       "      <td>20.8</td>\n",
       "    </tr>\n",
       "    <tr>\n",
       "      <th>2</th>\n",
       "      <td>Arizona</td>\n",
       "      <td>66%</td>\n",
       "      <td>19.2</td>\n",
       "      <td>Arizona</td>\n",
       "      <td>66%</td>\n",
       "      <td>19.2</td>\n",
       "    </tr>\n",
       "    <tr>\n",
       "      <th>3</th>\n",
       "      <td>Arkansas</td>\n",
       "      <td>100%</td>\n",
       "      <td>19.4</td>\n",
       "      <td>Arkansas</td>\n",
       "      <td>100%</td>\n",
       "      <td>19.4</td>\n",
       "    </tr>\n",
       "    <tr>\n",
       "      <th>4</th>\n",
       "      <td>California</td>\n",
       "      <td>27%</td>\n",
       "      <td>22.7</td>\n",
       "      <td>California</td>\n",
       "      <td>27%</td>\n",
       "      <td>22.7</td>\n",
       "    </tr>\n",
       "  </tbody>\n",
       "</table>\n",
       "</div>"
      ],
      "text/plain": [
       "        State Participation  Composite     State.1 Participation.1  \\\n",
       "0     Alabama          100%       19.1     Alabama            100%   \n",
       "1      Alaska           33%       20.8      Alaska             33%   \n",
       "2     Arizona           66%       19.2     Arizona             66%   \n",
       "3    Arkansas          100%       19.4    Arkansas            100%   \n",
       "4  California           27%       22.7  California             27%   \n",
       "\n",
       "   Composite.1  \n",
       "0         19.1  \n",
       "1         20.8  \n",
       "2         19.2  \n",
       "3         19.4  \n",
       "4         22.7  "
      ]
     },
     "execution_count": 29,
     "metadata": {},
     "output_type": "execute_result"
    }
   ],
   "source": [
    "act_2018.head()"
   ]
  },
  {
   "cell_type": "code",
   "execution_count": 30,
   "metadata": {},
   "outputs": [],
   "source": [
    "# drop columns we won't be needing \n",
    "act_2018.drop(['State.1', 'Participation.1', 'Composite.1'], axis = 1, inplace = True)"
   ]
  },
  {
   "cell_type": "code",
   "execution_count": 31,
   "metadata": {
    "scrolled": true
   },
   "outputs": [
    {
     "data": {
      "text/html": [
       "<div>\n",
       "<style scoped>\n",
       "    .dataframe tbody tr th:only-of-type {\n",
       "        vertical-align: middle;\n",
       "    }\n",
       "\n",
       "    .dataframe tbody tr th {\n",
       "        vertical-align: top;\n",
       "    }\n",
       "\n",
       "    .dataframe thead th {\n",
       "        text-align: right;\n",
       "    }\n",
       "</style>\n",
       "<table border=\"1\" class=\"dataframe\">\n",
       "  <thead>\n",
       "    <tr style=\"text-align: right;\">\n",
       "      <th></th>\n",
       "      <th>State</th>\n",
       "      <th>Participation</th>\n",
       "      <th>Composite</th>\n",
       "    </tr>\n",
       "  </thead>\n",
       "  <tbody>\n",
       "    <tr>\n",
       "      <th>0</th>\n",
       "      <td>Alabama</td>\n",
       "      <td>100%</td>\n",
       "      <td>19.1</td>\n",
       "    </tr>\n",
       "    <tr>\n",
       "      <th>1</th>\n",
       "      <td>Alaska</td>\n",
       "      <td>33%</td>\n",
       "      <td>20.8</td>\n",
       "    </tr>\n",
       "    <tr>\n",
       "      <th>2</th>\n",
       "      <td>Arizona</td>\n",
       "      <td>66%</td>\n",
       "      <td>19.2</td>\n",
       "    </tr>\n",
       "    <tr>\n",
       "      <th>3</th>\n",
       "      <td>Arkansas</td>\n",
       "      <td>100%</td>\n",
       "      <td>19.4</td>\n",
       "    </tr>\n",
       "    <tr>\n",
       "      <th>4</th>\n",
       "      <td>California</td>\n",
       "      <td>27%</td>\n",
       "      <td>22.7</td>\n",
       "    </tr>\n",
       "  </tbody>\n",
       "</table>\n",
       "</div>"
      ],
      "text/plain": [
       "        State Participation  Composite\n",
       "0     Alabama          100%       19.1\n",
       "1      Alaska           33%       20.8\n",
       "2     Arizona           66%       19.2\n",
       "3    Arkansas          100%       19.4\n",
       "4  California           27%       22.7"
      ]
     },
     "execution_count": 31,
     "metadata": {},
     "output_type": "execute_result"
    }
   ],
   "source": [
    "act_2018.head()"
   ]
  },
  {
   "cell_type": "code",
   "execution_count": 32,
   "metadata": {},
   "outputs": [
    {
     "data": {
      "text/plain": [
       "(52, 3)"
      ]
     },
     "execution_count": 32,
     "metadata": {},
     "output_type": "execute_result"
    }
   ],
   "source": [
    "act_2018.shape"
   ]
  },
  {
   "cell_type": "code",
   "execution_count": 33,
   "metadata": {},
   "outputs": [
    {
     "data": {
      "text/plain": [
       "array(['Alabama', 'Alaska', 'Arizona', 'Arkansas', 'California',\n",
       "       'Colorado', 'Connecticut', 'Delaware', 'Florida', 'Georgia',\n",
       "       'Hawaii', 'Idaho', 'Illinois', 'Indiana', 'Iowa', 'Kansas',\n",
       "       'Kentucky', 'Louisiana', 'Maine', 'Maryland', 'Massachusetts',\n",
       "       'Michigan', 'Minnesota', 'Mississippi', 'Missouri', 'Montana',\n",
       "       'National', 'Nebraska', 'Nevada', 'New Hampshire', 'New Jersey',\n",
       "       'New Mexico', 'New York', 'North Carolina', 'North Dakota', 'Ohio',\n",
       "       'Oklahoma', 'Oregon', 'Pennsylvania', 'Rhode Island',\n",
       "       'South Carolina', 'South Dakota', 'Tennessee', 'Texas', 'Utah',\n",
       "       'Vermont', 'Virginia', 'Washington', 'Washington, D.C.',\n",
       "       'West Virginia', 'Wisconsin', 'Wyoming'], dtype=object)"
      ]
     },
     "execution_count": 33,
     "metadata": {},
     "output_type": "execute_result"
    }
   ],
   "source": [
    "act_2018['State'].unique()"
   ]
  },
  {
   "cell_type": "markdown",
   "metadata": {},
   "source": [
    "We notice that 'District of Columbia' is given as 'Washington, D.C.' in the ACT data. We need to make sure that the states have exactly the same names in both SAT and ACT data so that we can then join the two datasets on the 'state' column. "
   ]
  },
  {
   "cell_type": "code",
   "execution_count": 34,
   "metadata": {},
   "outputs": [
    {
     "data": {
      "text/plain": [
       "Int64Index([48], dtype='int64')"
      ]
     },
     "execution_count": 34,
     "metadata": {},
     "output_type": "execute_result"
    }
   ],
   "source": [
    "act_2018[act_2018['State'] == 'Washington, D.C.'].index"
   ]
  },
  {
   "cell_type": "code",
   "execution_count": 35,
   "metadata": {},
   "outputs": [
    {
     "name": "stderr",
     "output_type": "stream",
     "text": [
      "/anaconda3/lib/python3.7/site-packages/ipykernel_launcher.py:1: SettingWithCopyWarning: \n",
      "A value is trying to be set on a copy of a slice from a DataFrame\n",
      "\n",
      "See the caveats in the documentation: http://pandas.pydata.org/pandas-docs/stable/indexing.html#indexing-view-versus-copy\n",
      "  \"\"\"Entry point for launching an IPython kernel.\n"
     ]
    }
   ],
   "source": [
    "act_2018['State'][48] = 'District of Columbia'"
   ]
  },
  {
   "cell_type": "markdown",
   "metadata": {},
   "source": [
    "Also, there is a spelling error in 'Oaklahoma' which needs to be fixed. "
   ]
  },
  {
   "cell_type": "code",
   "execution_count": 36,
   "metadata": {},
   "outputs": [
    {
     "data": {
      "text/plain": [
       "Int64Index([36], dtype='int64')"
      ]
     },
     "execution_count": 36,
     "metadata": {},
     "output_type": "execute_result"
    }
   ],
   "source": [
    "act_2018[act_2018['State'] == 'Oklahoma'].index"
   ]
  },
  {
   "cell_type": "code",
   "execution_count": 37,
   "metadata": {},
   "outputs": [
    {
     "name": "stderr",
     "output_type": "stream",
     "text": [
      "/anaconda3/lib/python3.7/site-packages/ipykernel_launcher.py:1: SettingWithCopyWarning: \n",
      "A value is trying to be set on a copy of a slice from a DataFrame\n",
      "\n",
      "See the caveats in the documentation: http://pandas.pydata.org/pandas-docs/stable/indexing.html#indexing-view-versus-copy\n",
      "  \"\"\"Entry point for launching an IPython kernel.\n"
     ]
    }
   ],
   "source": [
    "act_2018['State'][36] = 'Oaklahoma'"
   ]
  },
  {
   "cell_type": "markdown",
   "metadata": {},
   "source": [
    "Now we're ready to merge sat and act 2018 datasets. "
   ]
  },
  {
   "cell_type": "code",
   "execution_count": 38,
   "metadata": {},
   "outputs": [
    {
     "data": {
      "text/plain": [
       "(51, 11)"
      ]
     },
     "execution_count": 38,
     "metadata": {},
     "output_type": "execute_result"
    }
   ],
   "source": [
    "data_18 = pd.merge(sat_2018, act_2018, on = 'State')\n",
    "data.shape"
   ]
  },
  {
   "cell_type": "code",
   "execution_count": 39,
   "metadata": {},
   "outputs": [
    {
     "data": {
      "text/html": [
       "<div>\n",
       "<style scoped>\n",
       "    .dataframe tbody tr th:only-of-type {\n",
       "        vertical-align: middle;\n",
       "    }\n",
       "\n",
       "    .dataframe tbody tr th {\n",
       "        vertical-align: top;\n",
       "    }\n",
       "\n",
       "    .dataframe thead th {\n",
       "        text-align: right;\n",
       "    }\n",
       "</style>\n",
       "<table border=\"1\" class=\"dataframe\">\n",
       "  <thead>\n",
       "    <tr style=\"text-align: right;\">\n",
       "      <th></th>\n",
       "      <th>State</th>\n",
       "      <th>Participation_x</th>\n",
       "      <th>Evidence-Based Reading and Writing</th>\n",
       "      <th>Math</th>\n",
       "      <th>Total</th>\n",
       "      <th>Participation_y</th>\n",
       "      <th>Composite</th>\n",
       "    </tr>\n",
       "  </thead>\n",
       "  <tbody>\n",
       "    <tr>\n",
       "      <th>0</th>\n",
       "      <td>Alabama</td>\n",
       "      <td>6%</td>\n",
       "      <td>595.0</td>\n",
       "      <td>571.0</td>\n",
       "      <td>1166.0</td>\n",
       "      <td>100%</td>\n",
       "      <td>19.1</td>\n",
       "    </tr>\n",
       "    <tr>\n",
       "      <th>1</th>\n",
       "      <td>Alaska</td>\n",
       "      <td>43%</td>\n",
       "      <td>562.0</td>\n",
       "      <td>544.0</td>\n",
       "      <td>1106.0</td>\n",
       "      <td>33%</td>\n",
       "      <td>20.8</td>\n",
       "    </tr>\n",
       "    <tr>\n",
       "      <th>2</th>\n",
       "      <td>Arizona</td>\n",
       "      <td>29%</td>\n",
       "      <td>577.0</td>\n",
       "      <td>572.0</td>\n",
       "      <td>1149.0</td>\n",
       "      <td>66%</td>\n",
       "      <td>19.2</td>\n",
       "    </tr>\n",
       "    <tr>\n",
       "      <th>3</th>\n",
       "      <td>Arkansas</td>\n",
       "      <td>5%</td>\n",
       "      <td>592.0</td>\n",
       "      <td>576.0</td>\n",
       "      <td>1169.0</td>\n",
       "      <td>100%</td>\n",
       "      <td>19.4</td>\n",
       "    </tr>\n",
       "    <tr>\n",
       "      <th>4</th>\n",
       "      <td>California</td>\n",
       "      <td>60%</td>\n",
       "      <td>540.0</td>\n",
       "      <td>536.0</td>\n",
       "      <td>1076.0</td>\n",
       "      <td>27%</td>\n",
       "      <td>22.7</td>\n",
       "    </tr>\n",
       "  </tbody>\n",
       "</table>\n",
       "</div>"
      ],
      "text/plain": [
       "        State Participation_x  Evidence-Based Reading and Writing   Math  \\\n",
       "0     Alabama              6%                               595.0  571.0   \n",
       "1      Alaska             43%                               562.0  544.0   \n",
       "2     Arizona             29%                               577.0  572.0   \n",
       "3    Arkansas              5%                               592.0  576.0   \n",
       "4  California             60%                               540.0  536.0   \n",
       "\n",
       "    Total Participation_y  Composite  \n",
       "0  1166.0            100%       19.1  \n",
       "1  1106.0             33%       20.8  \n",
       "2  1149.0             66%       19.2  \n",
       "3  1169.0            100%       19.4  \n",
       "4  1076.0             27%       22.7  "
      ]
     },
     "execution_count": 39,
     "metadata": {},
     "output_type": "execute_result"
    }
   ],
   "source": [
    "data_18.head()"
   ]
  },
  {
   "cell_type": "code",
   "execution_count": 40,
   "metadata": {},
   "outputs": [
    {
     "data": {
      "text/plain": [
       "['state',\n",
       " 'sat_participation',\n",
       " 'sat_read_write',\n",
       " 'sat_math',\n",
       " 'sat_total',\n",
       " 'act_participation',\n",
       " 'act_composite']"
      ]
     },
     "execution_count": 40,
     "metadata": {},
     "output_type": "execute_result"
    }
   ],
   "source": [
    "# changing up the column names\n",
    "data_18.rename(columns={'State':'state',\n",
    "                     'Participation_x':'sat_participation', \n",
    "                     'Math':'sat_math',\n",
    "                     'Total':'sat_total',\n",
    "                     'Evidence-Based Reading and Writing':'sat_read_write',\n",
    "                     'Participation_y':'act_participation',\n",
    "                     'Composite':'act_composite'\n",
    "                    }, inplace=True)\n",
    "list(data_18.columns)"
   ]
  },
  {
   "cell_type": "code",
   "execution_count": 41,
   "metadata": {},
   "outputs": [
    {
     "name": "stdout",
     "output_type": "stream",
     "text": [
      "<class 'pandas.core.frame.DataFrame'>\n",
      "Int64Index: 51 entries, 0 to 50\n",
      "Data columns (total 7 columns):\n",
      "state                51 non-null object\n",
      "sat_participation    51 non-null object\n",
      "sat_read_write       51 non-null float64\n",
      "sat_math             51 non-null float64\n",
      "sat_total            51 non-null float64\n",
      "act_participation    51 non-null object\n",
      "act_composite        51 non-null float64\n",
      "dtypes: float64(4), object(3)\n",
      "memory usage: 3.2+ KB\n"
     ]
    }
   ],
   "source": [
    "data_18.info()"
   ]
  },
  {
   "cell_type": "code",
   "execution_count": 42,
   "metadata": {},
   "outputs": [],
   "source": [
    "# strip \"%\" from values in sat_participation and act_participation \n",
    "for i in data_18['sat_participation']:\n",
    "    data_18[\"sat_participation\"] = data_18[\"sat_participation\"].str.rstrip('%')\n",
    "\n",
    "for i in data_18['act_participation']:\n",
    "    data_18[\"act_participation\"] = data_18[\"act_participation\"].str.rstrip('%')\n",
    "    \n",
    "# convert values in sat_participation and act_participation to floats\n",
    "data_18[\"sat_participation\"] = data_18[\"sat_participation\"].astype('float')\n",
    "data_18[\"act_participation\"] = data_18[\"act_participation\"].astype('float')\n",
    "\n",
    "# divide the values by 100\n",
    "data_18['sat_participation'] = data_18['sat_participation']/100\n",
    "data_18['act_participation'] = data_18['act_participation']/100"
   ]
  },
  {
   "cell_type": "code",
   "execution_count": 43,
   "metadata": {},
   "outputs": [
    {
     "data": {
      "text/html": [
       "<style  type=\"text/css\" >\n",
       "</style><table id=\"T_cd6e191c_43d8_11e9_a7f0_6a00038c4c30\" ><thead>    <tr>        <th class=\"blank level0\" ></th>        <th class=\"col_heading level0 col0\" >count</th>        <th class=\"col_heading level0 col1\" >mean</th>        <th class=\"col_heading level0 col2\" >std</th>        <th class=\"col_heading level0 col3\" >min</th>        <th class=\"col_heading level0 col4\" >25%</th>        <th class=\"col_heading level0 col5\" >50%</th>        <th class=\"col_heading level0 col6\" >75%</th>        <th class=\"col_heading level0 col7\" >max</th>    </tr></thead><tbody>\n",
       "                <tr>\n",
       "                        <th id=\"T_cd6e191c_43d8_11e9_a7f0_6a00038c4c30level0_row0\" class=\"row_heading level0 row0\" >sat_participation</th>\n",
       "                        <td id=\"T_cd6e191c_43d8_11e9_a7f0_6a00038c4c30row0_col0\" class=\"data row0 col0\" >51</td>\n",
       "                        <td id=\"T_cd6e191c_43d8_11e9_a7f0_6a00038c4c30row0_col1\" class=\"data row0 col1\" >0.466275</td>\n",
       "                        <td id=\"T_cd6e191c_43d8_11e9_a7f0_6a00038c4c30row0_col2\" class=\"data row0 col2\" >0.380142</td>\n",
       "                        <td id=\"T_cd6e191c_43d8_11e9_a7f0_6a00038c4c30row0_col3\" class=\"data row0 col3\" >0.02</td>\n",
       "                        <td id=\"T_cd6e191c_43d8_11e9_a7f0_6a00038c4c30row0_col4\" class=\"data row0 col4\" >0.045</td>\n",
       "                        <td id=\"T_cd6e191c_43d8_11e9_a7f0_6a00038c4c30row0_col5\" class=\"data row0 col5\" >0.52</td>\n",
       "                        <td id=\"T_cd6e191c_43d8_11e9_a7f0_6a00038c4c30row0_col6\" class=\"data row0 col6\" >0.795</td>\n",
       "                        <td id=\"T_cd6e191c_43d8_11e9_a7f0_6a00038c4c30row0_col7\" class=\"data row0 col7\" >1</td>\n",
       "            </tr>\n",
       "            <tr>\n",
       "                        <th id=\"T_cd6e191c_43d8_11e9_a7f0_6a00038c4c30level0_row1\" class=\"row_heading level0 row1\" >sat_read_write</th>\n",
       "                        <td id=\"T_cd6e191c_43d8_11e9_a7f0_6a00038c4c30row1_col0\" class=\"data row1 col0\" >51</td>\n",
       "                        <td id=\"T_cd6e191c_43d8_11e9_a7f0_6a00038c4c30row1_col1\" class=\"data row1 col1\" >567.294</td>\n",
       "                        <td id=\"T_cd6e191c_43d8_11e9_a7f0_6a00038c4c30row1_col2\" class=\"data row1 col2\" >45.3177</td>\n",
       "                        <td id=\"T_cd6e191c_43d8_11e9_a7f0_6a00038c4c30row1_col3\" class=\"data row1 col3\" >497</td>\n",
       "                        <td id=\"T_cd6e191c_43d8_11e9_a7f0_6a00038c4c30row1_col4\" class=\"data row1 col4\" >535</td>\n",
       "                        <td id=\"T_cd6e191c_43d8_11e9_a7f0_6a00038c4c30row1_col5\" class=\"data row1 col5\" >552</td>\n",
       "                        <td id=\"T_cd6e191c_43d8_11e9_a7f0_6a00038c4c30row1_col6\" class=\"data row1 col6\" >616.5</td>\n",
       "                        <td id=\"T_cd6e191c_43d8_11e9_a7f0_6a00038c4c30row1_col7\" class=\"data row1 col7\" >643</td>\n",
       "            </tr>\n",
       "            <tr>\n",
       "                        <th id=\"T_cd6e191c_43d8_11e9_a7f0_6a00038c4c30level0_row2\" class=\"row_heading level0 row2\" >sat_math</th>\n",
       "                        <td id=\"T_cd6e191c_43d8_11e9_a7f0_6a00038c4c30row2_col0\" class=\"data row2 col0\" >51</td>\n",
       "                        <td id=\"T_cd6e191c_43d8_11e9_a7f0_6a00038c4c30row2_col1\" class=\"data row2 col1\" >557.255</td>\n",
       "                        <td id=\"T_cd6e191c_43d8_11e9_a7f0_6a00038c4c30row2_col2\" class=\"data row2 col2\" >48.8876</td>\n",
       "                        <td id=\"T_cd6e191c_43d8_11e9_a7f0_6a00038c4c30row2_col3\" class=\"data row2 col3\" >480</td>\n",
       "                        <td id=\"T_cd6e191c_43d8_11e9_a7f0_6a00038c4c30row2_col4\" class=\"data row2 col4\" >521.5</td>\n",
       "                        <td id=\"T_cd6e191c_43d8_11e9_a7f0_6a00038c4c30row2_col5\" class=\"data row2 col5\" >547</td>\n",
       "                        <td id=\"T_cd6e191c_43d8_11e9_a7f0_6a00038c4c30row2_col6\" class=\"data row2 col6\" >600.5</td>\n",
       "                        <td id=\"T_cd6e191c_43d8_11e9_a7f0_6a00038c4c30row2_col7\" class=\"data row2 col7\" >655</td>\n",
       "            </tr>\n",
       "            <tr>\n",
       "                        <th id=\"T_cd6e191c_43d8_11e9_a7f0_6a00038c4c30level0_row3\" class=\"row_heading level0 row3\" >sat_total</th>\n",
       "                        <td id=\"T_cd6e191c_43d8_11e9_a7f0_6a00038c4c30row3_col0\" class=\"data row3 col0\" >51</td>\n",
       "                        <td id=\"T_cd6e191c_43d8_11e9_a7f0_6a00038c4c30row3_col1\" class=\"data row3 col1\" >1124.63</td>\n",
       "                        <td id=\"T_cd6e191c_43d8_11e9_a7f0_6a00038c4c30row3_col2\" class=\"data row3 col2\" >93.8445</td>\n",
       "                        <td id=\"T_cd6e191c_43d8_11e9_a7f0_6a00038c4c30row3_col3\" class=\"data row3 col3\" >977</td>\n",
       "                        <td id=\"T_cd6e191c_43d8_11e9_a7f0_6a00038c4c30row3_col4\" class=\"data row3 col4\" >1062.5</td>\n",
       "                        <td id=\"T_cd6e191c_43d8_11e9_a7f0_6a00038c4c30row3_col5\" class=\"data row3 col5\" >1099</td>\n",
       "                        <td id=\"T_cd6e191c_43d8_11e9_a7f0_6a00038c4c30row3_col6\" class=\"data row3 col6\" >1220</td>\n",
       "                        <td id=\"T_cd6e191c_43d8_11e9_a7f0_6a00038c4c30row3_col7\" class=\"data row3 col7\" >1298</td>\n",
       "            </tr>\n",
       "            <tr>\n",
       "                        <th id=\"T_cd6e191c_43d8_11e9_a7f0_6a00038c4c30level0_row4\" class=\"row_heading level0 row4\" >act_participation</th>\n",
       "                        <td id=\"T_cd6e191c_43d8_11e9_a7f0_6a00038c4c30row4_col0\" class=\"data row4 col0\" >51</td>\n",
       "                        <td id=\"T_cd6e191c_43d8_11e9_a7f0_6a00038c4c30row4_col1\" class=\"data row4 col1\" >0.616471</td>\n",
       "                        <td id=\"T_cd6e191c_43d8_11e9_a7f0_6a00038c4c30row4_col2\" class=\"data row4 col2\" >0.34081</td>\n",
       "                        <td id=\"T_cd6e191c_43d8_11e9_a7f0_6a00038c4c30row4_col3\" class=\"data row4 col3\" >0.07</td>\n",
       "                        <td id=\"T_cd6e191c_43d8_11e9_a7f0_6a00038c4c30row4_col4\" class=\"data row4 col4\" >0.285</td>\n",
       "                        <td id=\"T_cd6e191c_43d8_11e9_a7f0_6a00038c4c30row4_col5\" class=\"data row4 col5\" >0.66</td>\n",
       "                        <td id=\"T_cd6e191c_43d8_11e9_a7f0_6a00038c4c30row4_col6\" class=\"data row4 col6\" >1</td>\n",
       "                        <td id=\"T_cd6e191c_43d8_11e9_a7f0_6a00038c4c30row4_col7\" class=\"data row4 col7\" >1</td>\n",
       "            </tr>\n",
       "            <tr>\n",
       "                        <th id=\"T_cd6e191c_43d8_11e9_a7f0_6a00038c4c30level0_row5\" class=\"row_heading level0 row5\" >act_composite</th>\n",
       "                        <td id=\"T_cd6e191c_43d8_11e9_a7f0_6a00038c4c30row5_col0\" class=\"data row5 col0\" >51</td>\n",
       "                        <td id=\"T_cd6e191c_43d8_11e9_a7f0_6a00038c4c30row5_col1\" class=\"data row5 col1\" >21.498</td>\n",
       "                        <td id=\"T_cd6e191c_43d8_11e9_a7f0_6a00038c4c30row5_col2\" class=\"data row5 col2\" >2.11769</td>\n",
       "                        <td id=\"T_cd6e191c_43d8_11e9_a7f0_6a00038c4c30row5_col3\" class=\"data row5 col3\" >17.7</td>\n",
       "                        <td id=\"T_cd6e191c_43d8_11e9_a7f0_6a00038c4c30row5_col4\" class=\"data row5 col4\" >19.95</td>\n",
       "                        <td id=\"T_cd6e191c_43d8_11e9_a7f0_6a00038c4c30row5_col5\" class=\"data row5 col5\" >21.3</td>\n",
       "                        <td id=\"T_cd6e191c_43d8_11e9_a7f0_6a00038c4c30row5_col6\" class=\"data row5 col6\" >23.65</td>\n",
       "                        <td id=\"T_cd6e191c_43d8_11e9_a7f0_6a00038c4c30row5_col7\" class=\"data row5 col7\" >25.6</td>\n",
       "            </tr>\n",
       "    </tbody></table>"
      ],
      "text/plain": [
       "<pandas.io.formats.style.Styler at 0x1a1fc88630>"
      ]
     },
     "execution_count": 43,
     "metadata": {},
     "output_type": "execute_result"
    }
   ],
   "source": [
    "data_18.describe().T.style.set_precision(6)"
   ]
  },
  {
   "cell_type": "markdown",
   "metadata": {},
   "source": [
    "# 4. Merging 2017 and 2018 Data "
   ]
  },
  {
   "cell_type": "code",
   "execution_count": 44,
   "metadata": {},
   "outputs": [],
   "source": [
    "# data.drop(['act_english',\n",
    "#            'act_math',\n",
    "#            'act_reading',\n",
    "#            'act_science',\n",
    "#            'act_english',\n",
    "#            'sat_read_write',\n",
    "#            'sat_math'\n",
    "#           ], axis=1, inplace = True) \n",
    "\n",
    "# data['year'] = int(2017)\n",
    "\n",
    "# data_18.drop(['sat_read_write',\n",
    "#               'sat_math'], axis=1, inplace = True)\n",
    "\n",
    "# data_18['year'] = int(2018)\n",
    "\n",
    "# print(data.columns)\n",
    "# print(data_18.columns)\n",
    "# print(data['year'].value_counts())\n",
    "# print(data_18['year'].value_counts())\n",
    "\n",
    "# df_17_concat_18 = pd.concat([data, data_18])\n",
    "\n",
    "# print(df_17_concat_18[df_17_concat_18['state']=='Oklahoma'].index)\n",
    "\n",
    "# print(df_17_concat_18.shape)\n",
    "# df_17_concat_18.head()\n",
    "\n",
    "# data['state'][36]='Oaklahoma'\n",
    "\n",
    "# df_17_concat_18.to_csv('../data/'concat_dat.csv')"
   ]
  },
  {
   "cell_type": "code",
   "execution_count": 45,
   "metadata": {},
   "outputs": [],
   "source": [
    "# for i, j in zip(data_18['state'], data['state']):\n",
    "#         if i != j:\n",
    "#             print(i)\n",
    "#             print(j)"
   ]
  },
  {
   "cell_type": "code",
   "execution_count": 46,
   "metadata": {},
   "outputs": [],
   "source": [
    "# data[data['state']=='Oklahoma'].index"
   ]
  },
  {
   "cell_type": "code",
   "execution_count": 47,
   "metadata": {},
   "outputs": [],
   "source": [
    "# data['state'][36]='Oaklahoma'"
   ]
  },
  {
   "cell_type": "code",
   "execution_count": 48,
   "metadata": {},
   "outputs": [
    {
     "data": {
      "text/plain": [
       "(50, 17)"
      ]
     },
     "execution_count": 48,
     "metadata": {},
     "output_type": "execute_result"
    }
   ],
   "source": [
    "df = pd.merge(data, data_18, on = 'state')\n",
    "df.shape"
   ]
  },
  {
   "cell_type": "code",
   "execution_count": 49,
   "metadata": {},
   "outputs": [
    {
     "data": {
      "text/html": [
       "<div>\n",
       "<style scoped>\n",
       "    .dataframe tbody tr th:only-of-type {\n",
       "        vertical-align: middle;\n",
       "    }\n",
       "\n",
       "    .dataframe tbody tr th {\n",
       "        vertical-align: top;\n",
       "    }\n",
       "\n",
       "    .dataframe thead th {\n",
       "        text-align: right;\n",
       "    }\n",
       "</style>\n",
       "<table border=\"1\" class=\"dataframe\">\n",
       "  <thead>\n",
       "    <tr style=\"text-align: right;\">\n",
       "      <th></th>\n",
       "      <th>state</th>\n",
       "      <th>sat_participation_x</th>\n",
       "      <th>sat_read_write_x</th>\n",
       "      <th>sat_math_x</th>\n",
       "      <th>sat_total_x</th>\n",
       "      <th>act_participation_x</th>\n",
       "      <th>act_english</th>\n",
       "      <th>act_math</th>\n",
       "      <th>act_reading</th>\n",
       "      <th>act_science</th>\n",
       "      <th>act_composite_x</th>\n",
       "      <th>sat_participation_y</th>\n",
       "      <th>sat_read_write_y</th>\n",
       "      <th>sat_math_y</th>\n",
       "      <th>sat_total_y</th>\n",
       "      <th>act_participation_y</th>\n",
       "      <th>act_composite_y</th>\n",
       "    </tr>\n",
       "  </thead>\n",
       "  <tbody>\n",
       "    <tr>\n",
       "      <th>0</th>\n",
       "      <td>Alabama</td>\n",
       "      <td>0.05</td>\n",
       "      <td>593</td>\n",
       "      <td>572</td>\n",
       "      <td>1165</td>\n",
       "      <td>1.00</td>\n",
       "      <td>18.9</td>\n",
       "      <td>18.4</td>\n",
       "      <td>19.7</td>\n",
       "      <td>19.4</td>\n",
       "      <td>19.2</td>\n",
       "      <td>0.06</td>\n",
       "      <td>595.0</td>\n",
       "      <td>571.0</td>\n",
       "      <td>1166.0</td>\n",
       "      <td>1.00</td>\n",
       "      <td>19.1</td>\n",
       "    </tr>\n",
       "    <tr>\n",
       "      <th>1</th>\n",
       "      <td>Alaska</td>\n",
       "      <td>0.38</td>\n",
       "      <td>547</td>\n",
       "      <td>533</td>\n",
       "      <td>1080</td>\n",
       "      <td>0.65</td>\n",
       "      <td>18.7</td>\n",
       "      <td>19.8</td>\n",
       "      <td>20.4</td>\n",
       "      <td>19.9</td>\n",
       "      <td>19.8</td>\n",
       "      <td>0.43</td>\n",
       "      <td>562.0</td>\n",
       "      <td>544.0</td>\n",
       "      <td>1106.0</td>\n",
       "      <td>0.33</td>\n",
       "      <td>20.8</td>\n",
       "    </tr>\n",
       "    <tr>\n",
       "      <th>2</th>\n",
       "      <td>Arizona</td>\n",
       "      <td>0.30</td>\n",
       "      <td>563</td>\n",
       "      <td>553</td>\n",
       "      <td>1116</td>\n",
       "      <td>0.62</td>\n",
       "      <td>18.6</td>\n",
       "      <td>19.8</td>\n",
       "      <td>20.1</td>\n",
       "      <td>19.8</td>\n",
       "      <td>19.7</td>\n",
       "      <td>0.29</td>\n",
       "      <td>577.0</td>\n",
       "      <td>572.0</td>\n",
       "      <td>1149.0</td>\n",
       "      <td>0.66</td>\n",
       "      <td>19.2</td>\n",
       "    </tr>\n",
       "    <tr>\n",
       "      <th>3</th>\n",
       "      <td>Arkansas</td>\n",
       "      <td>0.03</td>\n",
       "      <td>614</td>\n",
       "      <td>594</td>\n",
       "      <td>1208</td>\n",
       "      <td>1.00</td>\n",
       "      <td>18.9</td>\n",
       "      <td>19.0</td>\n",
       "      <td>19.7</td>\n",
       "      <td>19.5</td>\n",
       "      <td>19.4</td>\n",
       "      <td>0.05</td>\n",
       "      <td>592.0</td>\n",
       "      <td>576.0</td>\n",
       "      <td>1169.0</td>\n",
       "      <td>1.00</td>\n",
       "      <td>19.4</td>\n",
       "    </tr>\n",
       "    <tr>\n",
       "      <th>4</th>\n",
       "      <td>California</td>\n",
       "      <td>0.53</td>\n",
       "      <td>531</td>\n",
       "      <td>524</td>\n",
       "      <td>1055</td>\n",
       "      <td>0.31</td>\n",
       "      <td>22.5</td>\n",
       "      <td>22.7</td>\n",
       "      <td>23.1</td>\n",
       "      <td>22.2</td>\n",
       "      <td>22.8</td>\n",
       "      <td>0.60</td>\n",
       "      <td>540.0</td>\n",
       "      <td>536.0</td>\n",
       "      <td>1076.0</td>\n",
       "      <td>0.27</td>\n",
       "      <td>22.7</td>\n",
       "    </tr>\n",
       "  </tbody>\n",
       "</table>\n",
       "</div>"
      ],
      "text/plain": [
       "        state  sat_participation_x  sat_read_write_x  sat_math_x  sat_total_x  \\\n",
       "0     Alabama                 0.05               593         572         1165   \n",
       "1      Alaska                 0.38               547         533         1080   \n",
       "2     Arizona                 0.30               563         553         1116   \n",
       "3    Arkansas                 0.03               614         594         1208   \n",
       "4  California                 0.53               531         524         1055   \n",
       "\n",
       "   act_participation_x  act_english  act_math  act_reading  act_science  \\\n",
       "0                 1.00         18.9      18.4         19.7         19.4   \n",
       "1                 0.65         18.7      19.8         20.4         19.9   \n",
       "2                 0.62         18.6      19.8         20.1         19.8   \n",
       "3                 1.00         18.9      19.0         19.7         19.5   \n",
       "4                 0.31         22.5      22.7         23.1         22.2   \n",
       "\n",
       "   act_composite_x  sat_participation_y  sat_read_write_y  sat_math_y  \\\n",
       "0             19.2                 0.06             595.0       571.0   \n",
       "1             19.8                 0.43             562.0       544.0   \n",
       "2             19.7                 0.29             577.0       572.0   \n",
       "3             19.4                 0.05             592.0       576.0   \n",
       "4             22.8                 0.60             540.0       536.0   \n",
       "\n",
       "   sat_total_y  act_participation_y  act_composite_y  \n",
       "0       1166.0                 1.00             19.1  \n",
       "1       1106.0                 0.33             20.8  \n",
       "2       1149.0                 0.66             19.2  \n",
       "3       1169.0                 1.00             19.4  \n",
       "4       1076.0                 0.27             22.7  "
      ]
     },
     "execution_count": 49,
     "metadata": {},
     "output_type": "execute_result"
    }
   ],
   "source": [
    "df.head()"
   ]
  },
  {
   "cell_type": "code",
   "execution_count": 50,
   "metadata": {},
   "outputs": [],
   "source": [
    "df.rename(columns = {'sat_participation_x':'sat_part_17',\n",
    "                     'sat_participation_y':'sat_part_18',\n",
    "                     'act_participation_x':'act_part_17',\n",
    "                     'act_participation_y':'act_part_18',\n",
    "                     'act_composite_x':'act_comp_17',\n",
    "                     'act_composite_y':'act_comp_18',\n",
    "                     'sat_read_write_x':'sat_rw_17',\n",
    "                     'sat_read_write_y':'sat_rw_18',\n",
    "                     'sat_math_x':'sat_math_17',\n",
    "                     'sat_math_y':'sat_math_18',\n",
    "                     'sat_total_x':'sat_total_17',\n",
    "                     'sat_total_y':'sat_total_18',\n",
    "                     'act_english':'act_eng_17',\n",
    "                     'act_math':'act_math_17',\n",
    "                     'act_reading':'act_read_17',\n",
    "                     'act_science':'act_sci_17'\n",
    "                     }, inplace = True)"
   ]
  },
  {
   "cell_type": "code",
   "execution_count": 51,
   "metadata": {},
   "outputs": [
    {
     "data": {
      "text/html": [
       "<div>\n",
       "<style scoped>\n",
       "    .dataframe tbody tr th:only-of-type {\n",
       "        vertical-align: middle;\n",
       "    }\n",
       "\n",
       "    .dataframe tbody tr th {\n",
       "        vertical-align: top;\n",
       "    }\n",
       "\n",
       "    .dataframe thead th {\n",
       "        text-align: right;\n",
       "    }\n",
       "</style>\n",
       "<table border=\"1\" class=\"dataframe\">\n",
       "  <thead>\n",
       "    <tr style=\"text-align: right;\">\n",
       "      <th></th>\n",
       "      <th>state</th>\n",
       "      <th>sat_part_17</th>\n",
       "      <th>sat_rw_17</th>\n",
       "      <th>sat_math_17</th>\n",
       "      <th>sat_total_17</th>\n",
       "      <th>act_part_17</th>\n",
       "      <th>act_eng_17</th>\n",
       "      <th>act_math_17</th>\n",
       "      <th>act_read_17</th>\n",
       "      <th>act_sci_17</th>\n",
       "      <th>act_comp_17</th>\n",
       "      <th>sat_part_18</th>\n",
       "      <th>sat_rw_18</th>\n",
       "      <th>sat_math_18</th>\n",
       "      <th>sat_total_18</th>\n",
       "      <th>act_part_18</th>\n",
       "      <th>act_comp_18</th>\n",
       "    </tr>\n",
       "  </thead>\n",
       "  <tbody>\n",
       "    <tr>\n",
       "      <th>0</th>\n",
       "      <td>Alabama</td>\n",
       "      <td>0.05</td>\n",
       "      <td>593</td>\n",
       "      <td>572</td>\n",
       "      <td>1165</td>\n",
       "      <td>1.00</td>\n",
       "      <td>18.9</td>\n",
       "      <td>18.4</td>\n",
       "      <td>19.7</td>\n",
       "      <td>19.4</td>\n",
       "      <td>19.2</td>\n",
       "      <td>0.06</td>\n",
       "      <td>595.0</td>\n",
       "      <td>571.0</td>\n",
       "      <td>1166.0</td>\n",
       "      <td>1.00</td>\n",
       "      <td>19.1</td>\n",
       "    </tr>\n",
       "    <tr>\n",
       "      <th>1</th>\n",
       "      <td>Alaska</td>\n",
       "      <td>0.38</td>\n",
       "      <td>547</td>\n",
       "      <td>533</td>\n",
       "      <td>1080</td>\n",
       "      <td>0.65</td>\n",
       "      <td>18.7</td>\n",
       "      <td>19.8</td>\n",
       "      <td>20.4</td>\n",
       "      <td>19.9</td>\n",
       "      <td>19.8</td>\n",
       "      <td>0.43</td>\n",
       "      <td>562.0</td>\n",
       "      <td>544.0</td>\n",
       "      <td>1106.0</td>\n",
       "      <td>0.33</td>\n",
       "      <td>20.8</td>\n",
       "    </tr>\n",
       "    <tr>\n",
       "      <th>2</th>\n",
       "      <td>Arizona</td>\n",
       "      <td>0.30</td>\n",
       "      <td>563</td>\n",
       "      <td>553</td>\n",
       "      <td>1116</td>\n",
       "      <td>0.62</td>\n",
       "      <td>18.6</td>\n",
       "      <td>19.8</td>\n",
       "      <td>20.1</td>\n",
       "      <td>19.8</td>\n",
       "      <td>19.7</td>\n",
       "      <td>0.29</td>\n",
       "      <td>577.0</td>\n",
       "      <td>572.0</td>\n",
       "      <td>1149.0</td>\n",
       "      <td>0.66</td>\n",
       "      <td>19.2</td>\n",
       "    </tr>\n",
       "    <tr>\n",
       "      <th>3</th>\n",
       "      <td>Arkansas</td>\n",
       "      <td>0.03</td>\n",
       "      <td>614</td>\n",
       "      <td>594</td>\n",
       "      <td>1208</td>\n",
       "      <td>1.00</td>\n",
       "      <td>18.9</td>\n",
       "      <td>19.0</td>\n",
       "      <td>19.7</td>\n",
       "      <td>19.5</td>\n",
       "      <td>19.4</td>\n",
       "      <td>0.05</td>\n",
       "      <td>592.0</td>\n",
       "      <td>576.0</td>\n",
       "      <td>1169.0</td>\n",
       "      <td>1.00</td>\n",
       "      <td>19.4</td>\n",
       "    </tr>\n",
       "    <tr>\n",
       "      <th>4</th>\n",
       "      <td>California</td>\n",
       "      <td>0.53</td>\n",
       "      <td>531</td>\n",
       "      <td>524</td>\n",
       "      <td>1055</td>\n",
       "      <td>0.31</td>\n",
       "      <td>22.5</td>\n",
       "      <td>22.7</td>\n",
       "      <td>23.1</td>\n",
       "      <td>22.2</td>\n",
       "      <td>22.8</td>\n",
       "      <td>0.60</td>\n",
       "      <td>540.0</td>\n",
       "      <td>536.0</td>\n",
       "      <td>1076.0</td>\n",
       "      <td>0.27</td>\n",
       "      <td>22.7</td>\n",
       "    </tr>\n",
       "  </tbody>\n",
       "</table>\n",
       "</div>"
      ],
      "text/plain": [
       "        state  sat_part_17  sat_rw_17  sat_math_17  sat_total_17  act_part_17  \\\n",
       "0     Alabama         0.05        593          572          1165         1.00   \n",
       "1      Alaska         0.38        547          533          1080         0.65   \n",
       "2     Arizona         0.30        563          553          1116         0.62   \n",
       "3    Arkansas         0.03        614          594          1208         1.00   \n",
       "4  California         0.53        531          524          1055         0.31   \n",
       "\n",
       "   act_eng_17  act_math_17  act_read_17  act_sci_17  act_comp_17  sat_part_18  \\\n",
       "0        18.9         18.4         19.7        19.4         19.2         0.06   \n",
       "1        18.7         19.8         20.4        19.9         19.8         0.43   \n",
       "2        18.6         19.8         20.1        19.8         19.7         0.29   \n",
       "3        18.9         19.0         19.7        19.5         19.4         0.05   \n",
       "4        22.5         22.7         23.1        22.2         22.8         0.60   \n",
       "\n",
       "   sat_rw_18  sat_math_18  sat_total_18  act_part_18  act_comp_18  \n",
       "0      595.0        571.0        1166.0         1.00         19.1  \n",
       "1      562.0        544.0        1106.0         0.33         20.8  \n",
       "2      577.0        572.0        1149.0         0.66         19.2  \n",
       "3      592.0        576.0        1169.0         1.00         19.4  \n",
       "4      540.0        536.0        1076.0         0.27         22.7  "
      ]
     },
     "execution_count": 51,
     "metadata": {},
     "output_type": "execute_result"
    }
   ],
   "source": [
    "df.head()"
   ]
  },
  {
   "cell_type": "code",
   "execution_count": 52,
   "metadata": {},
   "outputs": [
    {
     "data": {
      "text/html": [
       "<div>\n",
       "<style scoped>\n",
       "    .dataframe tbody tr th:only-of-type {\n",
       "        vertical-align: middle;\n",
       "    }\n",
       "\n",
       "    .dataframe tbody tr th {\n",
       "        vertical-align: top;\n",
       "    }\n",
       "\n",
       "    .dataframe thead th {\n",
       "        text-align: right;\n",
       "    }\n",
       "</style>\n",
       "<table border=\"1\" class=\"dataframe\">\n",
       "  <thead>\n",
       "    <tr style=\"text-align: right;\">\n",
       "      <th></th>\n",
       "      <th>sat_part_17</th>\n",
       "      <th>sat_rw_17</th>\n",
       "      <th>sat_math_17</th>\n",
       "      <th>sat_total_17</th>\n",
       "      <th>act_part_17</th>\n",
       "      <th>act_eng_17</th>\n",
       "      <th>act_math_17</th>\n",
       "      <th>act_read_17</th>\n",
       "      <th>act_sci_17</th>\n",
       "      <th>act_comp_17</th>\n",
       "      <th>sat_part_18</th>\n",
       "      <th>sat_rw_18</th>\n",
       "      <th>sat_math_18</th>\n",
       "      <th>sat_total_18</th>\n",
       "      <th>act_part_18</th>\n",
       "      <th>act_comp_18</th>\n",
       "    </tr>\n",
       "  </thead>\n",
       "  <tbody>\n",
       "    <tr>\n",
       "      <th>count</th>\n",
       "      <td>50.000000</td>\n",
       "      <td>50.000000</td>\n",
       "      <td>50.000000</td>\n",
       "      <td>50.000000</td>\n",
       "      <td>50.000000</td>\n",
       "      <td>50.000000</td>\n",
       "      <td>50.000000</td>\n",
       "      <td>50.000000</td>\n",
       "      <td>50.000000</td>\n",
       "      <td>50.000000</td>\n",
       "      <td>50.000000</td>\n",
       "      <td>50.000000</td>\n",
       "      <td>50.000000</td>\n",
       "      <td>50.000000</td>\n",
       "      <td>50.000000</td>\n",
       "      <td>50.000000</td>\n",
       "    </tr>\n",
       "    <tr>\n",
       "      <th>mean</th>\n",
       "      <td>0.404600</td>\n",
       "      <td>569.900000</td>\n",
       "      <td>557.680000</td>\n",
       "      <td>1127.680000</td>\n",
       "      <td>0.645600</td>\n",
       "      <td>20.980000</td>\n",
       "      <td>21.230000</td>\n",
       "      <td>22.052000</td>\n",
       "      <td>21.070000</td>\n",
       "      <td>21.562000</td>\n",
       "      <td>0.474000</td>\n",
       "      <td>567.820000</td>\n",
       "      <td>557.980000</td>\n",
       "      <td>1125.880000</td>\n",
       "      <td>0.608800</td>\n",
       "      <td>21.542000</td>\n",
       "    </tr>\n",
       "    <tr>\n",
       "      <th>std</th>\n",
       "      <td>0.353191</td>\n",
       "      <td>45.783987</td>\n",
       "      <td>47.250716</td>\n",
       "      <td>92.734301</td>\n",
       "      <td>0.320778</td>\n",
       "      <td>2.351552</td>\n",
       "      <td>1.972386</td>\n",
       "      <td>2.069925</td>\n",
       "      <td>3.208042</td>\n",
       "      <td>2.018172</td>\n",
       "      <td>0.379936</td>\n",
       "      <td>45.620301</td>\n",
       "      <td>49.106087</td>\n",
       "      <td>94.365689</td>\n",
       "      <td>0.339794</td>\n",
       "      <td>2.115549</td>\n",
       "    </tr>\n",
       "    <tr>\n",
       "      <th>min</th>\n",
       "      <td>0.020000</td>\n",
       "      <td>482.000000</td>\n",
       "      <td>468.000000</td>\n",
       "      <td>950.000000</td>\n",
       "      <td>0.080000</td>\n",
       "      <td>16.300000</td>\n",
       "      <td>18.000000</td>\n",
       "      <td>18.100000</td>\n",
       "      <td>2.300000</td>\n",
       "      <td>17.800000</td>\n",
       "      <td>0.020000</td>\n",
       "      <td>497.000000</td>\n",
       "      <td>480.000000</td>\n",
       "      <td>977.000000</td>\n",
       "      <td>0.070000</td>\n",
       "      <td>17.700000</td>\n",
       "    </tr>\n",
       "    <tr>\n",
       "      <th>25%</th>\n",
       "      <td>0.040000</td>\n",
       "      <td>535.250000</td>\n",
       "      <td>524.000000</td>\n",
       "      <td>1057.000000</td>\n",
       "      <td>0.310000</td>\n",
       "      <td>19.100000</td>\n",
       "      <td>19.500000</td>\n",
       "      <td>20.500000</td>\n",
       "      <td>19.925000</td>\n",
       "      <td>19.850000</td>\n",
       "      <td>0.042500</td>\n",
       "      <td>535.000000</td>\n",
       "      <td>522.250000</td>\n",
       "      <td>1063.250000</td>\n",
       "      <td>0.277500</td>\n",
       "      <td>20.000000</td>\n",
       "    </tr>\n",
       "    <tr>\n",
       "      <th>50%</th>\n",
       "      <td>0.405000</td>\n",
       "      <td>559.500000</td>\n",
       "      <td>549.500000</td>\n",
       "      <td>1107.500000</td>\n",
       "      <td>0.680000</td>\n",
       "      <td>20.800000</td>\n",
       "      <td>21.050000</td>\n",
       "      <td>21.850000</td>\n",
       "      <td>21.300000</td>\n",
       "      <td>21.400000</td>\n",
       "      <td>0.535000</td>\n",
       "      <td>553.000000</td>\n",
       "      <td>547.000000</td>\n",
       "      <td>1099.000000</td>\n",
       "      <td>0.655000</td>\n",
       "      <td>21.300000</td>\n",
       "    </tr>\n",
       "    <tr>\n",
       "      <th>75%</th>\n",
       "      <td>0.665000</td>\n",
       "      <td>613.500000</td>\n",
       "      <td>601.000000</td>\n",
       "      <td>1214.000000</td>\n",
       "      <td>1.000000</td>\n",
       "      <td>23.300000</td>\n",
       "      <td>23.100000</td>\n",
       "      <td>24.175000</td>\n",
       "      <td>22.975000</td>\n",
       "      <td>23.600000</td>\n",
       "      <td>0.797500</td>\n",
       "      <td>617.250000</td>\n",
       "      <td>603.250000</td>\n",
       "      <td>1225.000000</td>\n",
       "      <td>1.000000</td>\n",
       "      <td>23.675000</td>\n",
       "    </tr>\n",
       "    <tr>\n",
       "      <th>max</th>\n",
       "      <td>1.000000</td>\n",
       "      <td>644.000000</td>\n",
       "      <td>651.000000</td>\n",
       "      <td>1295.000000</td>\n",
       "      <td>1.000000</td>\n",
       "      <td>25.500000</td>\n",
       "      <td>25.300000</td>\n",
       "      <td>26.000000</td>\n",
       "      <td>24.900000</td>\n",
       "      <td>25.500000</td>\n",
       "      <td>1.000000</td>\n",
       "      <td>643.000000</td>\n",
       "      <td>655.000000</td>\n",
       "      <td>1298.000000</td>\n",
       "      <td>1.000000</td>\n",
       "      <td>25.600000</td>\n",
       "    </tr>\n",
       "  </tbody>\n",
       "</table>\n",
       "</div>"
      ],
      "text/plain": [
       "       sat_part_17   sat_rw_17  sat_math_17  sat_total_17  act_part_17  \\\n",
       "count    50.000000   50.000000    50.000000     50.000000    50.000000   \n",
       "mean      0.404600  569.900000   557.680000   1127.680000     0.645600   \n",
       "std       0.353191   45.783987    47.250716     92.734301     0.320778   \n",
       "min       0.020000  482.000000   468.000000    950.000000     0.080000   \n",
       "25%       0.040000  535.250000   524.000000   1057.000000     0.310000   \n",
       "50%       0.405000  559.500000   549.500000   1107.500000     0.680000   \n",
       "75%       0.665000  613.500000   601.000000   1214.000000     1.000000   \n",
       "max       1.000000  644.000000   651.000000   1295.000000     1.000000   \n",
       "\n",
       "       act_eng_17  act_math_17  act_read_17  act_sci_17  act_comp_17  \\\n",
       "count   50.000000    50.000000    50.000000   50.000000    50.000000   \n",
       "mean    20.980000    21.230000    22.052000   21.070000    21.562000   \n",
       "std      2.351552     1.972386     2.069925    3.208042     2.018172   \n",
       "min     16.300000    18.000000    18.100000    2.300000    17.800000   \n",
       "25%     19.100000    19.500000    20.500000   19.925000    19.850000   \n",
       "50%     20.800000    21.050000    21.850000   21.300000    21.400000   \n",
       "75%     23.300000    23.100000    24.175000   22.975000    23.600000   \n",
       "max     25.500000    25.300000    26.000000   24.900000    25.500000   \n",
       "\n",
       "       sat_part_18   sat_rw_18  sat_math_18  sat_total_18  act_part_18  \\\n",
       "count    50.000000   50.000000    50.000000     50.000000    50.000000   \n",
       "mean      0.474000  567.820000   557.980000   1125.880000     0.608800   \n",
       "std       0.379936   45.620301    49.106087     94.365689     0.339794   \n",
       "min       0.020000  497.000000   480.000000    977.000000     0.070000   \n",
       "25%       0.042500  535.000000   522.250000   1063.250000     0.277500   \n",
       "50%       0.535000  553.000000   547.000000   1099.000000     0.655000   \n",
       "75%       0.797500  617.250000   603.250000   1225.000000     1.000000   \n",
       "max       1.000000  643.000000   655.000000   1298.000000     1.000000   \n",
       "\n",
       "       act_comp_18  \n",
       "count    50.000000  \n",
       "mean     21.542000  \n",
       "std       2.115549  \n",
       "min      17.700000  \n",
       "25%      20.000000  \n",
       "50%      21.300000  \n",
       "75%      23.675000  \n",
       "max      25.600000  "
      ]
     },
     "execution_count": 52,
     "metadata": {},
     "output_type": "execute_result"
    }
   ],
   "source": [
    "df.describe()"
   ]
  },
  {
   "cell_type": "code",
   "execution_count": 53,
   "metadata": {},
   "outputs": [],
   "source": [
    "# save data to a file \n",
    "df.to_csv('../data/final.csv')"
   ]
  }
 ],
 "metadata": {
  "kernelspec": {
   "display_name": "Python 3",
   "language": "python",
   "name": "python3"
  },
  "language_info": {
   "codemirror_mode": {
    "name": "ipython",
    "version": 3
   },
   "file_extension": ".py",
   "mimetype": "text/x-python",
   "name": "python",
   "nbconvert_exporter": "python",
   "pygments_lexer": "ipython3",
   "version": "3.7.1"
  }
 },
 "nbformat": 4,
 "nbformat_minor": 2
}
